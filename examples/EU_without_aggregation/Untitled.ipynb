{
 "cells": [
  {
   "cell_type": "markdown",
   "metadata": {},
   "source": [
    "# PCA Application on European Energy System"
   ]
  },
  {
   "cell_type": "markdown",
   "metadata": {},
   "source": [
    "## create national time series using RES (&GLAES)"
   ]
  },
  {
   "cell_type": "markdown",
   "metadata": {},
   "source": [
    "## 1. simulate with the complete time series with neither tsam nor PCA\n"
   ]
  },
  {
   "cell_type": "markdown",
   "metadata": {},
   "source": [
    "## 2. apply PCA and optimize with reconstructed data without tsam"
   ]
  },
  {
   "cell_type": "markdown",
   "metadata": {},
   "source": [
    "## 3. apply PCA and apply tsam to PCA time series, then reconstruct data and optimize with those (without applying tsam again)"
   ]
  },
  {
   "cell_type": "markdown",
   "metadata": {},
   "source": [
    "## 4. don't apply PCA , apply tsam on national time series with same #periods as in 3. and then optimize the system"
   ]
  },
  {
   "cell_type": "markdown",
   "metadata": {},
   "source": [
    "criteria:\n",
    "- [ ] use complete toolchain\n",
    "    - [ ] RES\n",
    "    - [ ] GLAES\n",
    "    - [ ] FINE\n",
    "    - [ ] tsam\n",
    "    - [ ] PCA"
   ]
  },
  {
   "cell_type": "code",
   "execution_count": null,
   "metadata": {},
   "outputs": [],
   "source": []
  },
  {
   "cell_type": "code",
   "execution_count": null,
   "metadata": {},
   "outputs": [],
   "source": []
  }
 ],
 "metadata": {
  "kernelspec": {
   "display_name": "Python 3",
   "language": "python",
   "name": "python3"
  },
  "language_info": {
   "codemirror_mode": {
    "name": "ipython",
    "version": 3
   },
   "file_extension": ".py",
   "mimetype": "text/x-python",
   "name": "python",
   "nbconvert_exporter": "python",
   "pygments_lexer": "ipython3",
   "version": "3.7.2"
  }
 },
 "nbformat": 4,
 "nbformat_minor": 2
}
