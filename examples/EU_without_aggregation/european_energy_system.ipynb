{
 "cells": [
  {
   "cell_type": "markdown",
   "metadata": {},
   "source": [
    "# Workflow for a multi-regional energy system\n",
    "\n",
    "In this application of the FINE framework, a multi-regional energy system is modeled and optimized.\n",
    "\n",
    "All classes which are available to the user are utilized and examples of the selection of different parameters within these classes are given.\n",
    "\n",
    "The workflow is structures as follows:\n",
    "1. Required packages are imported and the input data path is set\n",
    "2. An energy system model instance is created\n",
    "3. Commodity sources are added to the energy system model\n",
    "4. Commodity conversion components are added to the energy system model\n",
    "5. Commodity storages are added to the energy system model\n",
    "6. Commodity transmission components are added to the energy system model\n",
    "7. Commodity sinks are added to the energy system model\n",
    "8. The energy system model is optimized\n",
    "9. Selected optimization results are presented\n"
   ]
  },
  {
   "cell_type": "markdown",
   "metadata": {},
   "source": [
    "# 1. Import required packages and set input data path\n",
    "\n",
    "The FINE framework is imported which provides the required classes and functions for modeling the energy system."
   ]
  },
  {
   "cell_type": "code",
   "execution_count": 1,
   "metadata": {},
   "outputs": [],
   "source": [
    "import FINE as fn\n",
    "from getData import getData\n",
    "import os\n",
    "cwd = os.getcwd()\n",
    "data = getData()\n",
    "\n",
    "%matplotlib inline  \n",
    "%reload_ext autoreload\n",
    "%autoreload 2"
   ]
  },
  {
   "cell_type": "code",
   "execution_count": 2,
   "metadata": {},
   "outputs": [],
   "source": [
    "# import matplotlib.pyplot as plt\n",
    "# fig, axes = plt.subplots()\n",
    "# data['Wind (offshore), operationRateMax'].plot(ax=axes) # CF\n",
    "# data['Wind (onshore), operationRateMax'].plot(ax=axes) # CF\n",
    "# data['PV, operationRateMax'].plot(ax=axes) # CF\n",
    "# data['Existing run-of-river plants, operationRateFix'].plot(ax=axes) # CF\n",
    "# data['Electricity demand, operationRateFix'].plot(ax=axes) # GW\n",
    "# data['Hydrogen demand, operationRateFix'].plot(ax=axes) # GW"
   ]
  },
  {
   "cell_type": "markdown",
   "metadata": {},
   "source": [
    "# 2. Create an energy system model instance \n",
    "\n",
    "The structure of the energy system model is given by the considered locations, commodities, the number of time steps as well as the hours per time step.\n",
    "\n",
    "The commodities are specified by a unit (i.e. 'GW_electric', 'GW_H2lowerHeatingValue', 'Mio. t CO2/h') which can be given as an energy or mass unit per hour. Furthermore, the cost unit and length unit are specified."
   ]
  },
  {
   "cell_type": "code",
   "execution_count": 3,
   "metadata": {},
   "outputs": [],
   "source": [
    "locations = {'es', 'pt', 'fr', 'be', 'lu', 'nl', 'de', 'dk', 'cz', 'pl', 'sk', 'ch', 'at', 'it', 'si', 'hu', 'ro', 'hr', 'ba', 'me', 'rs', 'bg', 'mk', 'gr', 'al', 'ee', 'fi', 'lt', 'lv', 'no', 'se', 'uk', 'ie'}\n",
    "locations = {nation.upper() for nation in locations}\n",
    "\n",
    "commodityUnitDict = {'electricity': r'GW$_{el}$', 'methane': r'GW$_{CH_{4},LHV}$',\n",
    "                     'CO2': r'Mio. t$_{CO_2}$/h', 'hydrogen': r'GW$_{H_{2},LHV}$'}\n",
    "commodities = {'electricity', 'hydrogen', 'methane', 'CO2'}\n",
    "numberOfTimeSteps = 8760\n",
    "hoursPerTimeStep = 1"
   ]
  },
  {
   "cell_type": "code",
   "execution_count": 4,
   "metadata": {},
   "outputs": [],
   "source": [
    "esM = fn.EnergySystemModel(locations=locations, commodities=commodities, numberOfTimeSteps=8760, \n",
    "                           commodityUnitsDict=commodityUnitDict, hoursPerTimeStep=1, \n",
    "                           costUnit='1e9 Euro', lengthUnit='km', verboseLogLevel=0)"
   ]
  },
  {
   "cell_type": "code",
   "execution_count": 5,
   "metadata": {},
   "outputs": [],
   "source": [
    "CO2_reductionTarget = 1"
   ]
  },
  {
   "cell_type": "markdown",
   "metadata": {},
   "source": [
    "# 3. Add commodity sources to the energy system model"
   ]
  },
  {
   "cell_type": "markdown",
   "metadata": {},
   "source": [
    "## 3.1. Electricity sources"
   ]
  },
  {
   "cell_type": "markdown",
   "metadata": {},
   "source": [
    "### Wind onshore"
   ]
  },
  {
   "cell_type": "code",
   "execution_count": 6,
   "metadata": {},
   "outputs": [],
   "source": [
    "esM.add(fn.Source(esM=esM, name='Wind (onshore)', commodity='electricity', hasCapacityVariable=True,\n",
    "                  operationRateMax=data['Wind (onshore), operationRateMax'], capacityMax = data['Wind (onshore), capacityMax'],\n",
    "                  investPerCapacity=1.1, opexPerCapacity=1.1*0.02, interestRate=0.08,\n",
    "                  economicLifetime=25))"
   ]
  },
  {
   "cell_type": "code",
   "execution_count": 7,
   "metadata": {},
   "outputs": [],
   "source": [
    "from os.path import join\n",
    "cwd = os.getcwd()\n",
    "data_path = 'C:\\\\Users\\\\r.beer\\\\code\\\\git_repos\\\\FINE\\\\examples\\\\EU_without_aggregation' + '\\\\InputData\\\\SpatialData\\\\'\n",
    "\n",
    "# visualize shapefiles\n",
    "path_e_highway_sev2 = join(data_path, 'ShapeFiles\\\\e-highway_sev2.shp')\n",
    "path_e_highway_sev_full = join(data_path, 'ShapeFiles\\\\e-highway_sev-full.shp')\n"
   ]
  },
  {
   "cell_type": "markdown",
   "metadata": {},
   "source": [
    "### Wind offshore"
   ]
  },
  {
   "cell_type": "code",
   "execution_count": 8,
   "metadata": {},
   "outputs": [],
   "source": [
    "esM.add(fn.Source(esM=esM, name='Wind (offshore)', commodity='electricity', hasCapacityVariable=True,\n",
    "                  operationRateMax=data['Wind (offshore), operationRateMax'],\n",
    "                  capacityMax=data['Wind (offshore), capacityMax'],\n",
    "                  investPerCapacity=2.3, opexPerCapacity=2.3*0.02, interestRate=0.08,\n",
    "                  economicLifetime=20))"
   ]
  },
  {
   "cell_type": "markdown",
   "metadata": {},
   "source": [
    "### PV"
   ]
  },
  {
   "cell_type": "code",
   "execution_count": 9,
   "metadata": {},
   "outputs": [],
   "source": [
    "esM.add(fn.Source(esM=esM, name='PV', commodity='electricity', hasCapacityVariable=True,\n",
    "                  operationRateMax=data['PV, operationRateMax'], capacityMax=data['PV, capacityMax'],\n",
    "                  investPerCapacity=0.65, opexPerCapacity=0.65*0.02, interestRate=0.08,\n",
    "                  economicLifetime=25))"
   ]
  },
  {
   "cell_type": "markdown",
   "metadata": {},
   "source": [
    "### Exisisting run-of-river hydroelectricity plants"
   ]
  },
  {
   "cell_type": "code",
   "execution_count": 10,
   "metadata": {},
   "outputs": [],
   "source": [
    "esM.add(fn.Source(esM=esM, name='Existing run-of-river plants', commodity='electricity',\n",
    "                  hasCapacityVariable=True,\n",
    "                  operationRateFix=data['Existing run-of-river plants, operationRateFix'], tsaWeight=0.01,\n",
    "                  capacityFix=data['Existing run-of-river plants, capacityFix'],\n",
    "                  investPerCapacity=0, opexPerCapacity=0.208))"
   ]
  },
  {
   "cell_type": "markdown",
   "metadata": {},
   "source": [
    "## 3.2. Methane (natural gas and biogas)"
   ]
  },
  {
   "cell_type": "markdown",
   "metadata": {},
   "source": [
    "### Natural gas"
   ]
  },
  {
   "cell_type": "code",
   "execution_count": 11,
   "metadata": {},
   "outputs": [],
   "source": [
    "esM.add(fn.Source(esM=esM, name='Natural gas purchase', commodity='methane',\n",
    "                  hasCapacityVariable=False, commodityCost=0.0331*1e-3))"
   ]
  },
  {
   "cell_type": "markdown",
   "metadata": {},
   "source": [
    "### Biogas"
   ]
  },
  {
   "cell_type": "code",
   "execution_count": 12,
   "metadata": {},
   "outputs": [],
   "source": [
    "# esM.add(fn.Source(esM=esM, name='Biogas purchase', commodity='biogas',\n",
    "#                   operationRateMax=data['Biogas, operationRateMax'], hasCapacityVariable=False,\n",
    "#                   commodityCost=0.05409*1e-3))\n"
   ]
  },
  {
   "cell_type": "markdown",
   "metadata": {},
   "source": [
    "### CO2\n",
    "\n",
    "The CO2 source is required for the case in which it can be mixed with conventional natural gas."
   ]
  },
  {
   "cell_type": "code",
   "execution_count": 13,
   "metadata": {},
   "outputs": [],
   "source": [
    "esM.add(fn.Source(esM=esM, name='CO2 from enviroment', commodity='CO2',\n",
    "                  hasCapacityVariable=False, commodityLimitID='CO2 limit', yearlyLimit=366*(1-CO2_reductionTarget)))"
   ]
  },
  {
   "cell_type": "code",
   "execution_count": null,
   "metadata": {},
   "outputs": [],
   "source": []
  },
  {
   "cell_type": "markdown",
   "metadata": {},
   "source": [
    "# 4. Add conversion components to the energy system model"
   ]
  },
  {
   "cell_type": "markdown",
   "metadata": {},
   "source": [
    "### Combined cycle gas turbine plants"
   ]
  },
  {
   "cell_type": "code",
   "execution_count": 14,
   "metadata": {},
   "outputs": [],
   "source": [
    "esM.add(fn.Conversion(esM=esM, name='CCGT plants (methane)', physicalUnit=r'GW$_{el}$',\n",
    "                      commodityConversionFactors={'electricity': 1, 'methane': -1/0.625, 'CO2': 201*1e-6/0.625},\n",
    "                      hasCapacityVariable=False,\n",
    "                      investPerCapacity=0.65, opexPerCapacity=0.021, interestRate=0.08,\n",
    "                      economicLifetime=33))"
   ]
  },
  {
   "cell_type": "markdown",
   "metadata": {},
   "source": [
    "### New combined cycle gas turbine plants for biogas"
   ]
  },
  {
   "cell_type": "code",
   "execution_count": 15,
   "metadata": {},
   "outputs": [],
   "source": [
    "# esM.add(fn.Conversion(esM=esM, name='New CCGT plants (biogas)', physicalUnit=r'GW$_{el}$',\n",
    "#                       commodityConversionFactors={'electricity':1, 'biogas':-1/0.635},\n",
    "#                       hasCapacityVariable=True, \n",
    "#                       investPerCapacity=0.7, opexPerCapacity=0.021, interestRate=0.08,\n",
    "#                       economicLifetime=33))"
   ]
  },
  {
   "cell_type": "markdown",
   "metadata": {},
   "source": [
    "### New combined cycly gas turbines for hydrogen"
   ]
  },
  {
   "cell_type": "code",
   "execution_count": 16,
   "metadata": {},
   "outputs": [],
   "source": [
    "esM.add(fn.Conversion(esM=esM, name='New CCGT plants (hydrogen)', physicalUnit=r'GW$_{el}$',\n",
    "                      commodityConversionFactors={'electricity':1, 'hydrogen':-1/0.6},\n",
    "                      hasCapacityVariable=True, \n",
    "                      investPerCapacity=0.7, opexPerCapacity=0.021, interestRate=0.08,\n",
    "                      economicLifetime=33))"
   ]
  },
  {
   "cell_type": "markdown",
   "metadata": {},
   "source": [
    "### Electrolyzers"
   ]
  },
  {
   "cell_type": "code",
   "execution_count": 17,
   "metadata": {},
   "outputs": [],
   "source": [
    "esM.add(fn.Conversion(esM=esM, name='Electroylzers', physicalUnit=r'GW$_{el}$',\n",
    "                      commodityConversionFactors={'electricity':-1, 'hydrogen':0.7},\n",
    "                      hasCapacityVariable=True, \n",
    "                      investPerCapacity=0.5, opexPerCapacity=0.5*0.025, interestRate=0.08,\n",
    "                      economicLifetime=10))"
   ]
  },
  {
   "cell_type": "markdown",
   "metadata": {},
   "source": [
    "### rSOC"
   ]
  },
  {
   "cell_type": "code",
   "execution_count": 18,
   "metadata": {},
   "outputs": [],
   "source": [
    "# capexRSOC=1.5\n",
    "\n",
    "# esM.add(fn.Conversion(esM=esM, name='rSOEC', physicalUnit=r'GW$_{el}$', linkedConversionCapacityID='rSOC',\n",
    "#                       commodityConversionFactors={'electricity':-1, 'hydrogen':0.6},\n",
    "#                       hasCapacityVariable=True, \n",
    "#                       investPerCapacity=capexRSOC/2, opexPerCapacity=capexRSOC*0.02/2, interestRate=0.08,\n",
    "#                       economicLifetime=10))\n",
    "\n",
    "# esM.add(fn.Conversion(esM=esM, name='rSOFC', physicalUnit=r'GW$_{el}$', linkedConversionCapacityID='rSOC',\n",
    "#                       commodityConversionFactors={'electricity':1, 'hydrogen':-1/0.6},\n",
    "#                       hasCapacityVariable=True, \n",
    "#                       investPerCapacity=capexRSOC/2, opexPerCapacity=capexRSOC*0.02/2, interestRate=0.08,\n",
    "#                       economicLifetime=10))"
   ]
  },
  {
   "cell_type": "markdown",
   "metadata": {},
   "source": [
    "# 5. Add commodity storages to the energy system model"
   ]
  },
  {
   "cell_type": "markdown",
   "metadata": {},
   "source": [
    "## 5.1. Electricity storage"
   ]
  },
  {
   "cell_type": "markdown",
   "metadata": {},
   "source": [
    "### Lithium ion batteries\n",
    "\n",
    "The self discharge of a lithium ion battery is here described as 3% per month. The self discharge per hours is obtained using the equation (1-$\\text{selfDischarge}_\\text{hour})^{30*24\\text{h}} = 1-\\text{selfDischarge}_\\text{month}$."
   ]
  },
  {
   "cell_type": "code",
   "execution_count": 19,
   "metadata": {},
   "outputs": [],
   "source": [
    "esM.add(fn.Storage(esM=esM, name='Li-ion batteries', commodity='electricity',\n",
    "                   hasCapacityVariable=True, chargeEfficiency=0.95,\n",
    "                   cyclicLifetime=10000, dischargeEfficiency=0.95, selfDischarge=1-(1-0.03)**(1/(30*24)),\n",
    "                   chargeRate=1, dischargeRate=1, doPreciseTsaModeling=False,\n",
    "                   investPerCapacity=0.151, opexPerCapacity=0.002, interestRate=0.08,\n",
    "                   economicLifetime=22))"
   ]
  },
  {
   "cell_type": "markdown",
   "metadata": {},
   "source": [
    "## 5.2. Hydrogen storage"
   ]
  },
  {
   "cell_type": "markdown",
   "metadata": {},
   "source": [
    "### Hydrogen filled salt caverns\n",
    "The maximum capacity is here obtained by: dividing the given capacity (which is given for methane) by the lower heating value of methane and then multiplying it with the lower heating value of hydrogen."
   ]
  },
  {
   "cell_type": "code",
   "execution_count": 20,
   "metadata": {},
   "outputs": [],
   "source": [
    "# esM.add(fn.Storage(esM=esM, name='Salt caverns (hydrogen)', commodity='hydrogen',\n",
    "#                    hasCapacityVariable=True, capacityVariableDomain='continuous',\n",
    "#                    capacityPerPlantUnit=133,\n",
    "#                    chargeRate=1/470.37, dischargeRate=1/470.37, sharedPotentialID='Existing salt caverns',\n",
    "#                    stateOfChargeMin=0.33, stateOfChargeMax=1, capacityMax=data['Salt caverns (hydrogen), capacityMax'],\n",
    "#                    investPerCapacity=0.00011, opexPerCapacity=0.00057, interestRate=0.08,\n",
    "#                    economicLifetime=30))"
   ]
  },
  {
   "cell_type": "markdown",
   "metadata": {},
   "source": [
    "## 5.3. Methane storage"
   ]
  },
  {
   "cell_type": "markdown",
   "metadata": {},
   "source": [
    "### Methane filled salt caverns"
   ]
  },
  {
   "cell_type": "code",
   "execution_count": 21,
   "metadata": {},
   "outputs": [],
   "source": [
    "# esM.add(fn.Storage(esM=esM, name='Salt caverns (biogas)', commodity='biogas',\n",
    "#                    hasCapacityVariable=True, capacityVariableDomain='continuous',\n",
    "#                    capacityPerPlantUnit=443,\n",
    "#                    chargeRate=1/470.37, dischargeRate=1/470.37, sharedPotentialID='Existing salt caverns',\n",
    "#                    stateOfChargeMin=0.33, stateOfChargeMax=1, capacityMax=data['Salt caverns (methane), capacityMax'],\n",
    "#                    investPerCapacity=0.00004, opexPerCapacity=0.00001, interestRate=0.08,\n",
    "#                    economicLifetime=30))"
   ]
  },
  {
   "cell_type": "markdown",
   "metadata": {},
   "source": [
    "## 5.4 Pumped hydro storage"
   ]
  },
  {
   "cell_type": "markdown",
   "metadata": {},
   "source": [
    "### Pumped hydro storage"
   ]
  },
  {
   "cell_type": "code",
   "execution_count": 22,
   "metadata": {},
   "outputs": [],
   "source": [
    "# esM.add(fn.Storage(esM=esM, name='Pumped hydro storage', commodity='electricity',\n",
    "#                    chargeEfficiency=0.88, dischargeEfficiency=0.88,\n",
    "#                    hasCapacityVariable=True, selfDischarge=1-(1-0.00375)**(1/(30*24)),\n",
    "#                    chargeRate=0.16, dischargeRate=0.12, capacityFix=data['Pumped hydro storage, capacityFix'],\n",
    "#                    investPerCapacity=0, opexPerCapacity=0.000153))"
   ]
  },
  {
   "cell_type": "markdown",
   "metadata": {},
   "source": [
    "# 6. Add commodity transmission components to the energy system model"
   ]
  },
  {
   "cell_type": "markdown",
   "metadata": {},
   "source": [
    "## 6.1. Electricity transmission"
   ]
  },
  {
   "cell_type": "markdown",
   "metadata": {},
   "source": [
    "### AC cables"
   ]
  },
  {
   "cell_type": "code",
   "execution_count": 23,
   "metadata": {},
   "outputs": [
    {
     "name": "stdout",
     "output_type": "stream",
     "text": [
      "The distances of a component are set to a normalized value of 1.\n"
     ]
    }
   ],
   "source": [
    "esM.add(fn.Transmission(esM=esM, name='AC cables', commodity='electricity',\n",
    "                                  hasCapacityVariable=True, capacityFix=data['AC cables, capacityFix']))"
   ]
  },
  {
   "cell_type": "code",
   "execution_count": 24,
   "metadata": {},
   "outputs": [],
   "source": [
    "# esM.add(fn.Transmission(esM=esM, name='AC cables', commodity='electricity',\n",
    "#                                   hasCapacityVariable=False))"
   ]
  },
  {
   "cell_type": "markdown",
   "metadata": {},
   "source": [
    "### DC cables"
   ]
  },
  {
   "cell_type": "code",
   "execution_count": 25,
   "metadata": {},
   "outputs": [],
   "source": [
    "# esM.add(fn.Transmission(esM=esM, name='DC cables', commodity='electricity', losses=data['DC cables, losses'],\n",
    "#                         distances=data['DC cables, distances'],\n",
    "#                         hasCapacityVariable=True, capacityFix=data['DC cables, capacityFix']))"
   ]
  },
  {
   "cell_type": "markdown",
   "metadata": {},
   "source": [
    "## 6.2 Methane transmission"
   ]
  },
  {
   "cell_type": "markdown",
   "metadata": {},
   "source": [
    "### Methane pipeline"
   ]
  },
  {
   "cell_type": "code",
   "execution_count": 26,
   "metadata": {
    "scrolled": true
   },
   "outputs": [],
   "source": [
    "# esM.add(fn.Transmission(esM=esM, name='Pipelines (biogas)', commodity='biogas', \n",
    "#                         distances=data['Pipelines, distances'],\n",
    "#                         hasCapacityVariable=True, hasIsBuiltBinaryVariable=False, bigM=300,\n",
    "#                         locationalEligibility=data['Pipelines, eligibility'],\n",
    "#                         capacityMax=data['Pipelines, eligibility']*15, sharedPotentialID='pipelines',\n",
    "#                         investPerCapacity=0.000037, investIfBuilt=0.000314,\n",
    "#                         interestRate=0.08, economicLifetime=40))"
   ]
  },
  {
   "cell_type": "markdown",
   "metadata": {},
   "source": [
    "esM.getComponent('Pipelines (methane)')._mapC['cluster_0_cluster_4'][1]"
   ]
  },
  {
   "cell_type": "markdown",
   "metadata": {},
   "source": [
    "## 6.3 Hydrogen transmission"
   ]
  },
  {
   "cell_type": "markdown",
   "metadata": {},
   "source": [
    "### Hydrogen pipelines"
   ]
  },
  {
   "cell_type": "code",
   "execution_count": 27,
   "metadata": {
    "scrolled": true
   },
   "outputs": [],
   "source": [
    "# esM.add(fn.Transmission(esM=esM, name='Pipelines (hydrogen)', commodity='hydrogen',\n",
    "#                         distances=data['Pipelines, distances'],\n",
    "#                         hasCapacityVariable=True, hasIsBuiltBinaryVariable=False, bigM=300,\n",
    "#                         locationalEligibility=data['Pipelines, eligibility'],\n",
    "#                         capacityMax=data['Pipelines, eligibility']*15, sharedPotentialID='pipelines',\n",
    "#                         investPerCapacity=0.000177, investIfBuilt=0.00033,\n",
    "#                         interestRate=0.08, economicLifetime=40))"
   ]
  },
  {
   "cell_type": "markdown",
   "metadata": {},
   "source": [
    "esM.getComponent('Pipeline (hydrogen)')._mapC"
   ]
  },
  {
   "cell_type": "markdown",
   "metadata": {},
   "source": [
    "# 7. Add commodity sinks to the energy system model"
   ]
  },
  {
   "cell_type": "markdown",
   "metadata": {},
   "source": [
    "## 7.1. Electricity sinks"
   ]
  },
  {
   "cell_type": "markdown",
   "metadata": {},
   "source": [
    "### Electricity demand"
   ]
  },
  {
   "cell_type": "code",
   "execution_count": 28,
   "metadata": {},
   "outputs": [],
   "source": [
    "esM.add(fn.Sink(esM=esM, name='Electricity demand', commodity='electricity',\n",
    "                hasCapacityVariable=False, operationRateFix=data['Electricity demand, operationRateFix']))"
   ]
  },
  {
   "cell_type": "markdown",
   "metadata": {},
   "source": [
    "## 7.2. Hydrogen sinks"
   ]
  },
  {
   "cell_type": "markdown",
   "metadata": {},
   "source": [
    "### Fuel cell electric vehicle (FCEV) demand"
   ]
  },
  {
   "cell_type": "code",
   "execution_count": 29,
   "metadata": {},
   "outputs": [],
   "source": [
    "# FCEV_penetration=0.5\n",
    "# esM.add(fn.Sink(esM=esM, name='Hydrogen demand', commodity='hydrogen', hasCapacityVariable=False,\n",
    "#                 operationRateFix=data['Hydrogen demand, operationRateFix']*FCEV_penetration))"
   ]
  },
  {
   "cell_type": "markdown",
   "metadata": {},
   "source": [
    "## 7.3. CO2 sinks"
   ]
  },
  {
   "cell_type": "markdown",
   "metadata": {},
   "source": [
    "### CO2 exiting the system's boundary"
   ]
  },
  {
   "cell_type": "code",
   "execution_count": 30,
   "metadata": {},
   "outputs": [],
   "source": [
    "esM.add(fn.Sink(esM=esM, name='CO2 to enviroment', commodity='CO2',\n",
    "                hasCapacityVariable=False, commodityLimitID='CO2 limit', yearlyLimit=366*(1-CO2_reductionTarget)))"
   ]
  },
  {
   "cell_type": "markdown",
   "metadata": {},
   "source": [
    "# 8. Optimize energy system model"
   ]
  },
  {
   "cell_type": "markdown",
   "metadata": {},
   "source": [
    "All components are now added to the model and the model can be optimized. If the computational complexity of the optimization should be reduced, the time series data of the specified components can be clustered before the optimization and the parameter timeSeriesAggregation is set to True in the optimize call."
   ]
  },
  {
   "cell_type": "code",
   "execution_count": 31,
   "metadata": {},
   "outputs": [
    {
     "name": "stdout",
     "output_type": "stream",
     "text": [
      "\n",
      "Clustering time series data with 6 typical periods and 24 time steps per period...\n"
     ]
    },
    {
     "name": "stderr",
     "output_type": "stream",
     "text": [
      "C:\\Users\\r.beer\\AppData\\Local\\Continuum\\anaconda3\\envs\\spagat_py37\\lib\\site-packages\\tsam\\timeseriesaggregation.py:728: UserWarning: Max iteration number reached while rescaling the cluster periods\n",
      "  'Max iteration number reached while rescaling the cluster periods')\n"
     ]
    },
    {
     "name": "stdout",
     "output_type": "stream",
     "text": [
      "\t\t(15.9408 sec)\n",
      "\n"
     ]
    }
   ],
   "source": [
    "esM.cluster(numberOfTypicalPeriods=6)"
   ]
  },
  {
   "cell_type": "code",
   "execution_count": 32,
   "metadata": {
    "scrolled": true
   },
   "outputs": [
    {
     "name": "stdout",
     "output_type": "stream",
     "text": [
      "Time series aggregation specifications:\n",
      "Number of typical periods:6, number of time steps per periods:24\n",
      "\n",
      "Declaring sets, variables and constraints for SourceSinkModel\n",
      "\tdeclaring sets... \n",
      "\tdeclaring variables... \n",
      "\tdeclaring constraints... \n",
      "\t\t(1.0965 sec)\n",
      "\n",
      "Declaring sets, variables and constraints for ConversionModel\n",
      "\tdeclaring sets... \n",
      "\tdeclaring variables... \n",
      "\tdeclaring constraints... \n",
      "\t\t(0.2306 sec)\n",
      "\n",
      "Declaring sets, variables and constraints for StorageModel\n",
      "\tdeclaring sets... \n",
      "\tdeclaring variables... \n",
      "\tdeclaring constraints... \n",
      "\t\t(2.1186 sec)\n",
      "\n",
      "Declaring sets, variables and constraints for TransmissionModel\n",
      "\tdeclaring sets... \n",
      "\tdeclaring variables... \n",
      "\tdeclaring constraints... \n",
      "\t\t(0.5736 sec)\n",
      "\n",
      "Declaring shared potential constraint...\n",
      "\t\t(0.0000 sec)\n",
      "\n",
      "Declaring commodity balances...\n",
      "\t\t(1.5030 sec)\n",
      "\n",
      "Declaring objective function...\n",
      "\t\t(0.6047 sec)\n",
      "\n",
      "Academic license - for non-commercial use only\n",
      "Read LP format model from file C:\\Users\\R2D98~1.BEE\\AppData\\Local\\Temp\\tmpt4lpkz5f.pyomo.lp\n",
      "Reading time = 0.49 seconds\n",
      "x96161: 129367 rows, 96161 columns, 400437 nonzeros\n",
      "Changed value of parameter QCPDual to 1\n",
      "   Prev: 0  Min: 0  Max: 1  Default: 0\n",
      "Changed value of parameter logfile to \n",
      "   Prev: gurobi.log  Default: \n",
      "Changed value of parameter Threads to 3\n",
      "   Prev: 0  Min: 0  Max: 1024  Default: 0\n",
      "Changed value of parameter method to 2\n",
      "   Prev: -1  Min: -1  Max: 5  Default: -1\n",
      "Changed value of parameter OptimalityTol to 0.001\n",
      "   Prev: 1e-06  Min: 1e-09  Max: 0.01  Default: 1e-06\n",
      "Changed value of parameter cuts to 0\n",
      "   Prev: -1  Min: -1  Max: 3  Default: -1\n",
      "Optimize a model with 129367 rows, 96161 columns and 400437 nonzeros\n",
      "Coefficient statistics:\n",
      "  Matrix range     [4e-09, 5e+02]\n",
      "  Objective range  [1e-03, 3e-01]\n",
      "  Bounds range     [3e-01, 1e+02]\n",
      "  RHS range        [5e-02, 1e+02]\n",
      "Presolve removed 50891 rows and 49340 columns\n",
      "Presolve time: 0.21s\n",
      "Presolved: 78476 rows, 46821 columns, 298941 nonzeros\n",
      "\n",
      "Ordering time: 0.00s\n",
      "\n",
      "Barrier statistics:\n",
      " Dense cols : 337\n",
      " Free vars  : 990\n",
      " AA' NZ     : 1.956e+06\n",
      " Factor NZ  : 9.044e+06 (roughly 120 MBytes of memory)\n",
      " Factor Ops : 2.685e+09 (less than 1 second per iteration)\n",
      " Threads    : 3\n",
      "\n",
      "                  Objective                Residual\n",
      "Iter       Primal          Dual         Primal    Dual     Compl     Time\n",
      "   0   1.51538446e+03 -1.07339843e+02  3.08e+03 1.22e-02  6.52e+00     1s\n",
      "   1   1.85599162e+03 -3.24175724e+03  2.37e+03 2.97e-02  4.25e+00     2s\n",
      "   2   1.30774429e+03 -3.91344771e+03  1.04e+03 1.96e-02  2.29e+00     2s\n",
      "   3   1.17306616e+03 -4.04740241e+03  1.75e+02 2.30e-03  4.34e-01     2s\n",
      "   4   8.95609715e+02 -2.14744553e+03  3.97e+01 9.46e-04  1.91e-01     2s\n",
      "   5   7.32257174e+02 -9.93993930e+02  6.49e+00 5.11e-04  1.10e-01     2s\n",
      "   6   6.78601416e+02 -3.00419246e+02  5.45e+00 3.93e-04  9.05e-02     2s\n",
      "   7   6.25863812e+02  9.55460870e+02  4.53e+00 3.28e-04  7.74e-02     3s\n",
      "   8   6.05088135e+02  3.05778056e+03  4.20e+00 2.94e-04  7.27e-02     3s\n",
      "   9   5.95286785e+02  4.33793813e+03  4.03e+00 2.82e-04  6.97e-02     3s\n",
      "  10   5.84723386e+02  5.76933635e+03  3.70e+00 2.73e-04  6.55e-02     3s\n",
      "  11   5.81838250e+02  1.18775946e+04  3.52e+00 2.46e-04  6.17e-02     3s\n",
      "  12   6.46949013e+02  1.36352858e+04  3.32e+00 2.34e-04  7.38e-02     3s\n",
      "  13   6.99265186e+02  1.63804589e+04  3.10e+00 2.05e-04  7.33e-02     3s\n",
      "  14   7.04211625e+02  1.68290839e+04  3.06e+00 1.97e-04  6.91e-02     4s\n",
      "  15   7.16616463e+02  1.72903098e+04  2.96e+00 1.88e-04  6.58e-02     4s\n",
      "  16   7.27414096e+02  1.73133768e+04  2.91e+00 1.88e-04  6.59e-02     4s\n",
      "  17   7.50753794e+02  1.74285056e+04  2.74e+00 1.86e-04  6.37e-02     4s\n",
      "  18   7.70867344e+02  1.75408732e+04  2.61e+00 1.85e-04  6.15e-02     4s\n",
      "  19   7.81486894e+02  1.77344839e+04  2.54e+00 1.78e-04  5.77e-02     4s\n",
      "  20   7.99148420e+02  1.79723939e+04  2.43e+00 1.70e-04  5.49e-02     4s\n",
      "  21   8.12309515e+02  2.06243850e+04  2.35e+00 1.59e-04  5.18e-02     5s\n",
      "  22   8.29801991e+02  2.20081870e+04  2.28e+00 1.57e-04  5.03e-02     5s\n",
      "  23   8.57567028e+02  2.17825214e+04  2.20e+00 1.55e-04  4.95e-02     5s\n",
      "  24   2.27634719e+04 -1.41483945e+06  4.72e+04 1.14e-13  1.00e+06     5s\n",
      "  25   2.78080807e+04 -4.97637839e+07  3.84e+04 3.87e+02  8.48e+05     5s\n",
      "  26   2.24862163e+04 -5.96879387e+07  2.16e+04 2.52e+02  4.58e+05     6s\n",
      "  27   1.79259916e+04 -7.72443732e+07  3.94e+03 4.48e+01  1.01e+05     6s\n",
      "  28   1.75879032e+04 -7.03708999e+07  4.29e+02 7.65e+00  1.76e+04     6s\n",
      "  29   1.79781463e+04 -5.11559510e+07  3.53e+01 1.89e+00  6.11e+03     6s\n",
      "  30   1.78692835e+04 -4.89095314e+07  1.99e+01 1.71e+00  4.27e+03     6s\n",
      "  31   1.83795198e+04 -4.14089253e+07  8.29e+00 1.24e+00  2.66e+03     6s\n",
      "  32   1.89570003e+04 -1.55317152e+07  4.08e+00 4.99e-01  1.16e+03     7s\n",
      "  33   1.93895585e+04  1.84367883e+06  2.87e+00 2.40e-01  6.54e+02     7s\n",
      "  34   1.96285065e+04  8.98579240e+06  2.50e+00 1.86e-01  5.33e+02     7s\n",
      "  35   1.99012097e+04  1.13879456e+07  2.26e+00 1.75e-01  5.03e+02     7s\n",
      "  36   1.99930945e+04  1.25434492e+07  2.19e+00 1.66e-01  4.83e+02     7s\n",
      "  37   1.99989889e+04  1.44388714e+07  2.18e+00 1.50e-01  4.48e+02     7s\n",
      "  38   2.01593635e+04  1.52887696e+07  1.77e+00 1.40e-01  3.97e+02     7s\n",
      "  39   2.02190347e+04  1.64496050e+07  1.65e+00 1.22e-01  3.50e+02     8s\n",
      "  40   2.02393183e+04  1.77656616e+07  1.61e+00 1.07e-01  3.18e+02     8s\n",
      "  41   2.02663482e+04  3.02209186e+07  1.52e+00 9.40e-02  2.91e+02     8s\n",
      "  42   2.02912119e+04  7.73168576e+07  1.44e+00 8.53e-02  2.67e+02     8s\n",
      "  43   2.02970338e+04  2.11871924e+08  1.43e+00 8.47e-02  2.65e+02     8s\n",
      "  44   2.02993921e+04  1.06390954e+09  1.42e+00 8.42e-02  2.61e+02     8s\n",
      "  45   2.02999414e+04  9.82988539e+10  1.42e+00 8.38e-02  3.69e+02     9s\n",
      "  46   2.27634719e+04 -1.41483945e+06  4.72e+04 1.14e-13  1.00e+06     9s\n",
      "  47   9.16416807e+02  2.49820586e+04  1.16e+03 1.53e+01  5.94e+02     9s\n",
      "  48   6.55862288e+02 -1.19333342e+04  5.76e+02 3.79e+00  1.14e+02    10s\n",
      "  49   5.54463785e+02 -9.82637558e+03  3.84e+02 1.45e+00  4.31e+01    10s\n",
      "  50   4.64523333e+02  1.24940865e+03  1.67e+02 3.86e-01  1.45e+01    10s\n",
      "  51   6.65195420e+02  4.14636973e+03  1.31e+02 3.53e-01  1.88e+01    10s\n",
      "  52   8.28690291e+02  1.17919965e+04  1.12e+02 2.88e-01  2.15e+01    10s\n",
      "  53   1.24183035e+03  1.58355679e+04  6.78e+01 2.66e-01  2.52e+01    11s\n",
      "  54   1.49670364e+03  2.27103430e+04  4.80e+01 1.50e-01  2.06e+01    11s\n",
      "  55   1.84420993e+03  2.94225698e+04  3.51e+01 1.30e-01  2.35e+01    11s\n",
      "  56   2.16046691e+03  3.71776260e+04  2.49e+01 1.24e-01  2.69e+01    11s\n",
      "  57   2.90800654e+03  4.98332058e+04  7.28e+00 1.19e-01  3.47e+01    11s\n",
      "  58   3.50738374e+03  5.98158530e+04  5.12e+00 1.18e-01  4.14e+01    11s\n",
      "  59   5.07918548e+03  7.81928228e+04  4.85e+00 1.04e-01  5.24e+01    12s\n",
      "  60   7.13064514e+03  1.06991767e+05  4.64e+00 1.01e-01  6.96e+01    12s\n",
      "  61   9.99911454e+03  1.33073487e+05  4.41e+00 9.86e-02  8.73e+01    12s\n",
      "  62   1.32784392e+04  1.96451980e+05  4.21e+00 9.30e-02  1.13e+02    12s\n",
      "  63   2.56788853e+04  2.61720876e+05  3.42e+00 8.55e-02  1.66e+02    12s\n",
      "  64   3.04529600e+04  2.98017877e+05  3.20e+00 8.31e-02  1.84e+02    12s\n",
      "  65   4.18401756e+04  4.81397050e+05  2.85e+00 6.93e-02  2.30e+02    13s\n",
      "  66   6.68039419e+04  6.32693564e+05  2.29e+00 5.90e-02  2.96e+02    13s\n",
      "  67   7.68881880e+04  6.62135950e+05  2.05e+00 5.54e-02  3.08e+02    13s\n",
      "  68   8.36894765e+04  7.21404399e+05  1.92e+00 4.39e-02  3.07e+02    13s\n",
      "  69   1.26908721e+05  9.37043704e+05  1.73e+00 3.96e-02  4.07e+02    13s\n",
      "  70   3.65667787e+05  1.90833619e+06  1.80e+00 3.82e-02  1.01e+03    13s\n",
      "  71   1.12916230e+06  5.41416113e+06  1.81e+00 3.68e-02  2.66e+03    14s\n",
      "  72*  4.27955601e+06  5.31349249e+07  9.70e-01 3.18e-02  2.75e-01    14s\n",
      "  73*  4.04754284e+07  5.79074030e+08  1.01e-01 3.34e-03  4.64e-02    14s\n",
      "  74*  4.02252349e+10  1.09483735e+13  1.64e-04 5.00e-04  1.97e-03    14s\n",
      "  75*  7.43176483e+10  8.16739512e+12  4.48e-04 5.46e-05  7.45e-04    14s\n",
      "  76*  8.10820898e+11  3.92403873e+13  2.10e-03 9.68e-04  4.68e-04    15s\n",
      "  77*  2.82469895e+12  6.02271056e+14  8.40e-04 4.62e-02  4.90e-03    15s\n",
      "  78*  3.27044267e+12  6.05331488e+14  7.83e-04 2.85e-02  4.48e-03    15s\n",
      "  79*  5.12458668e+12  6.33579869e+14  7.99e-04 4.26e-02  4.66e-03    15s\n"
     ]
    },
    {
     "name": "stdout",
     "output_type": "stream",
     "text": [
      "  80*  6.67306017e+12  6.61157925e+14  6.40e-04 4.87e-02  5.41e-03    15s\n",
      "  81*  1.19958043e+13  6.98446443e+14  5.23e-04 2.83e-02  3.35e-03    15s\n",
      "  82*  1.30981038e+13  7.08820247e+14  5.06e-04 1.74e-02  3.24e-03    16s\n",
      "  83*  1.37218578e+13  7.15339884e+14  4.70e-04 1.86e-02  3.22e-03    16s\n",
      "  84*  1.51798914e+13  7.25394824e+14  4.09e-04 1.42e-02  2.97e-03    16s\n",
      "  85*  2.42248401e+13  8.10245172e+14  4.88e-04 7.67e-02  2.34e-03    16s\n",
      "  86*  4.28322640e+13  9.45670572e+14  2.89e-04 9.90e-02  1.49e-03    16s\n",
      "  87*  4.28321673e+13  9.45679391e+14  2.90e-04 7.26e-02  1.49e-03    17s\n",
      "  88*  4.62790055e+13  1.05981063e+15  2.90e-04 7.23e-02  1.49e-03    17s\n",
      "  89*  4.62732818e+13  1.05973025e+15  2.91e-04 7.23e-02  1.49e-03    17s\n",
      "  90*  5.75797818e+13  1.08190376e+15  2.91e-04 7.22e-02  1.49e-03    17s\n",
      "  91*  5.75797589e+13  1.08190345e+15  2.90e-04 7.22e-02  1.49e-03    17s\n",
      "  92*  1.27272150e+14  1.14124194e+15  2.89e-04 7.19e-02  1.49e-03    18s\n",
      "  93*  1.27273660e+14  1.14125504e+15  2.89e-04 7.19e-02  1.49e-03    18s\n",
      "  94*  1.27273677e+14  1.14125534e+15  2.89e-04 7.19e-02  1.49e-03    18s\n",
      "  95*  1.27754556e+14  1.14185118e+15  3.00e-04 7.19e-02  1.49e-03    18s\n",
      "  96*  1.27804866e+14  1.14207196e+15  3.00e-04 7.19e-02  1.49e-03    19s\n",
      "\n",
      "Barrier performed 96 iterations in 18.53 seconds\n",
      "Numerical trouble encountered\n",
      "\n",
      "Iteration    Objective       Primal Inf.    Dual Inf.      Time\n",
      "       0      handle free variables                         19s\n",
      "   27181    5.4984030e+01   2.787094e+06   0.000000e+00     20s\n",
      "   36372    1.7145179e+02   8.074150e+05   6.439614e+11     25s\n",
      "   40606    5.4255220e+02   3.414118e+04   5.122278e+10     30s\n",
      "   46108    4.9094961e+02   1.206822e+04   2.246589e+10     35s\n",
      "   51661    4.7765279e+02   5.584501e+03   5.185566e+09     40s\n",
      "   56298    4.9039669e+02   4.477819e+03   1.054802e+10     45s\n",
      "   60298    5.1659106e+02   3.911513e+03   8.203596e+09     50s\n",
      "   63818    5.5867709e+02   3.185561e+03   1.507749e+10     55s\n",
      "   66863    5.5737978e+02   2.646901e+03   1.242873e+10     60s\n",
      "   69903    5.6911551e+02   2.241981e+03   2.900782e+09     65s\n",
      "   72623    5.8282774e+02   2.020771e+03   6.102468e+09     70s\n",
      "   75503    5.7836371e+02   1.491781e+03   1.332837e+10     75s\n",
      "   78223    5.2026653e+02   1.093805e+03   7.198791e+09     80s\n",
      "   80943    4.9498000e+02   8.182141e+02   7.756605e+09     85s\n",
      "   83663    4.8732653e+02   7.133172e+02   5.413357e+09     90s\n",
      "   86543    4.7898509e+02   5.883299e+02   1.146397e+09     95s\n",
      "   89263    4.7065205e+02   5.158489e+02   2.019677e+09    100s\n",
      "   91643    4.6438863e+02   4.771799e+02   1.216145e+09    105s\n",
      "   93843    4.5809835e+02   4.516372e+02   1.084840e+09    110s\n",
      "   95933    4.5388447e+02   4.264315e+02   1.664126e+09    115s\n",
      "   98203    4.4702749e+02   4.063888e+02   1.263795e+09    120s\n",
      "  100131    4.4191529e+02   3.871790e+02   4.612850e+09    125s\n",
      "  102261    4.3808528e+02   3.702736e+02   2.257848e+09    130s\n",
      "  104321    4.3017588e+02   3.551938e+02   9.083477e+08    135s\n",
      "  106111    4.2314007e+02   3.404477e+02   3.199630e+09    140s\n",
      "  107991    4.1846583e+02   3.267892e+02   2.134810e+09    145s\n",
      "  109751    4.1564063e+02   3.159245e+02   1.418814e+09    150s\n",
      "  111571    4.1134281e+02   3.070664e+02   6.784365e+08    155s\n",
      "  113361    4.0763374e+02   2.988050e+02   3.487797e+08    160s\n",
      "  115301    4.0479628e+02   2.983403e+02   1.468062e+10    165s\n",
      "  117021    3.9884794e+02   2.802634e+02   2.134707e+09    170s\n",
      "  118816    3.9401851e+02   2.687484e+02   6.819584e+09    175s\n",
      "  120556    3.8987191e+02   2.582358e+02   3.601014e+08    180s\n",
      "  122166    3.8603401e+02   2.471938e+02   1.384257e+10    185s\n",
      "  123830    3.7925102e+02   1.707961e+04   5.891056e+12    190s\n",
      "  124839    3.6566401e+02   2.634000e+05   8.612889e+17    195s\n",
      "  125981    3.6699847e+02   1.769973e+05   9.895434e+12    200s\n",
      "  127103    3.6487029e+02   8.420829e+04   9.981326e+14    205s\n",
      "  128225    3.6818141e+02   3.129622e+04   9.851870e+12    210s\n",
      "  129449    3.6966676e+02   2.126462e+04   9.013839e+15    215s\n",
      "  130475    3.7119243e+02   1.719482e+04   1.891142e+13    220s\n",
      "  131637    3.7314576e+02   6.855029e+03   1.579057e+13    225s\n",
      "  132759    3.7391970e+02   3.589425e+03   7.461265e+12    230s\n",
      "  134187    3.7435210e+02   1.562223e+03   1.221215e+15    235s\n",
      "  135309    3.7449676e+02   9.755403e+02   9.527667e+10    240s\n",
      "  136635    3.7766855e+02   6.883574e+02   2.130628e+14    245s\n",
      "  137859    3.8176110e+02   4.688399e+02   3.729666e+13    251s\n",
      "  139083    3.8314674e+02   2.839636e+02   1.327174e+12    255s\n",
      "  140409    3.8173995e+02   2.619689e+02   2.890123e+10    260s\n",
      "  142143    3.8101978e+02   2.591993e+02   8.365320e+10    265s\n",
      "  143469    3.7849072e+02   2.517737e+02   2.840113e+10    270s\n",
      "  144795    3.7184045e+02   2.409047e+02   4.973600e+11    275s\n",
      "  146019    3.7235580e+02   6.469330e+02   9.539160e+12    280s\n",
      "  147243    3.7068724e+02   2.451599e+02   1.975116e+13    285s\n",
      "  148773    3.6845197e+02   2.335019e+02   1.464725e+10    290s\n",
      "  149895    3.6820953e+02   2.330035e+02   2.031581e+11    295s\n",
      "  151017    3.6820951e+02   2.330034e+02   2.029786e+11    300s\n",
      "  152241    3.6820951e+02   2.330034e+02   2.029786e+11    305s\n",
      "  153363    3.6820951e+02   2.330034e+02   2.029790e+11    310s\n",
      "  155607   -2.2633036e+32   6.307884e+37   2.264430e+02    315s\n",
      "  157902   -9.2512793e+31   9.350957e+36   9.539380e+01    320s\n",
      "  159942   -3.5556780e+31   4.432314e+36   4.106425e+01    325s\n",
      "  162084   -9.3117131e+30   1.728934e+36   2.073857e+01    330s\n",
      "  165042    6.3413516e+30   2.097896e+36   6.760201e+00    335s\n",
      "  170295    1.3843341e+31   1.163478e+34   4.786801e-01    340s\n",
      "  175905    1.4534144e+31   2.697095e+30   0.000000e+00    345s\n",
      "  179295   -5.8105701e+02   2.740891e+07   0.000000e+00    350s\n",
      "  181131    9.7803545e+00   1.083434e+07   0.000000e+00    355s\n",
      "  182763    4.0795586e+02   1.126787e+08   0.000000e+00    360s\n",
      "  184293    6.8264680e+02   3.128948e+08   0.000000e+00    365s\n",
      "  185823    1.1864506e+03   8.589535e+08   0.000000e+00    370s\n",
      "  187659    2.5892076e+03   9.548480e+08   0.000000e+00    375s\n",
      "  189291    3.1054979e+03   4.760951e+08   0.000000e+00    380s\n",
      "  190719    3.6314958e+03   1.331970e+08   0.000000e+00    385s\n",
      "  192351    4.3627349e+03   3.414025e+08   0.000000e+00    390s\n",
      "  193881    5.2135645e+03   2.132190e+08   0.000000e+00    395s\n",
      "  195411    5.9722959e+03   4.492341e+07   0.000000e+00    400s\n",
      "  196941    6.8944799e+03   2.556960e+08   0.000000e+00    405s\n",
      "  198471    8.3294155e+03   3.586692e+08   0.000000e+00    410s\n",
      "  200205    1.3402582e+04   1.903606e+08   0.000000e+00    415s\n",
      "  201429    1.4306127e+04   1.623845e+08   0.000000e+00    420s\n",
      "  202551    1.4932711e+04   3.982735e+08   0.000000e+00    425s\n",
      "  203979    1.5895923e+04   1.016429e+08   0.000000e+00    430s\n",
      "  205509    1.7643555e+04   7.558579e+07   0.000000e+00    435s\n",
      "  207141    2.1857618e+04   1.188689e+08   0.000000e+00    440s\n",
      "  208569    2.3621918e+04   1.638106e+08   0.000000e+00    445s\n",
      "  209997    2.5284580e+04   7.758518e+08   0.000000e+00    450s\n",
      "  211527    2.7288867e+04   1.206698e+08   0.000000e+00    455s\n",
      "  212955    2.9016096e+04   1.611538e+08   0.000000e+00    460s\n",
      "  214383    3.0616981e+04   2.417267e+09   0.000000e+00    465s\n",
      "  215913    3.3235408e+04   3.652831e+08   0.000000e+00    470s\n",
      "  217443    3.5009845e+04   1.153590e+09   0.000000e+00    475s\n",
      "  219177    3.7202999e+04   5.874945e+08   0.000000e+00    480s\n",
      "  220911    4.0390864e+04   1.094541e+09   0.000000e+00    485s\n",
      "  222645    4.4809345e+04   3.691208e+09   0.000000e+00    490s\n",
      "  224481    4.9482754e+04   9.055764e+08   0.000000e+00    495s\n",
      "  226215    8.9205009e+04   1.721123e+09   0.000000e+00    500s\n",
      "  227949    9.8278928e+04   3.685269e+09   0.000000e+00    505s\n",
      "  229581    1.0265092e+05   3.579299e+08   0.000000e+00    510s\n",
      "  231396    5.8927661e+05   4.874411e+08   0.000000e+00    515s\n",
      "  233049    5.9197687e+05   7.196872e+08   0.000000e+00    520s\n",
      "  234885    5.9506936e+05   9.141052e+08   0.000000e+00    525s\n",
      "  236378    5.9734154e+05   5.776182e+08   0.000000e+00    530s\n",
      "  237967    5.9961860e+05   2.752472e+09   0.000000e+00    535s\n",
      "  239282    6.0259416e+05   3.174770e+08   0.000000e+00    540s\n",
      "  240579    6.0440103e+05   3.056345e+08   0.000000e+00    545s\n"
     ]
    },
    {
     "name": "stdout",
     "output_type": "stream",
     "text": [
      "  241735    6.0641578e+05   1.966416e+09   0.000000e+00    551s\n",
      "  242668    6.0784791e+05   5.782580e+08   0.000000e+00    555s\n",
      "  243610    6.0910743e+05   4.063447e+08   0.000000e+00    561s\n",
      "  244114    6.0995159e+05   3.887843e+08   0.000000e+00    566s\n",
      "  244618    6.1060970e+05   1.101740e+09   0.000000e+00    570s\n",
      "  245118    6.1190992e+05   3.190930e+08   0.000000e+00    575s\n",
      "  245521    6.1362448e+05   5.475562e+08   0.000000e+00    581s\n",
      "  245923    6.1463094e+05   1.325147e+09   0.000000e+00    586s\n",
      "  246327    6.1573757e+05   9.622024e+08   0.000000e+00    591s\n",
      "  246836    6.1717775e+05   4.115234e+08   0.000000e+00    596s\n",
      "  247348    6.1854081e+05   7.924781e+08   0.000000e+00    600s\n",
      "  247850    6.1953287e+05   6.160653e+08   0.000000e+00    606s\n",
      "  248251    6.2034636e+05   7.640577e+08   0.000000e+00    610s\n",
      "  248760    6.2253097e+05   2.088690e+09   0.000000e+00    616s\n",
      "  249364    6.2439989e+05   5.442573e+08   0.000000e+00    621s\n",
      "  249869    6.2594173e+05   4.665803e+08   0.000000e+00    626s\n",
      "  250270    6.2731993e+05   3.381239e+08   0.000000e+00    630s\n",
      "  250771    6.2938712e+05   1.348703e+10   0.000000e+00    636s\n",
      "  251277    6.3096960e+05   1.199048e+09   0.000000e+00    641s\n",
      "  251679    6.3232263e+05   3.351762e+08   0.000000e+00    646s\n",
      "  252185    6.3659767e+05   7.273121e+08   0.000000e+00    651s\n",
      "  252590    6.4062929e+05   6.851733e+08   0.000000e+00    655s\n",
      "  253092    6.4734151e+05   8.905146e+08   0.000000e+00    661s\n",
      "  253596    6.5279596e+05   1.968951e+09   0.000000e+00    665s\n",
      "  254100    6.5853958e+05   7.837328e+08   0.000000e+00    670s\n",
      "  254706    6.6710120e+05   6.115854e+08   0.000000e+00    676s\n",
      "  255210    6.7449105e+05   3.769820e+09   0.000000e+00    680s\n",
      "  255820    6.8279190e+05   1.312569e+10   0.000000e+00    686s\n",
      "  256423    6.9568906e+05   3.835488e+09   0.000000e+00    691s\n",
      "  257033    7.1380279e+05   1.659023e+10   0.000000e+00    695s\n",
      "  257757    7.2537822e+05   1.371730e+09   0.000000e+00    700s\n",
      "  258567    7.3837466e+05   3.747178e+09   0.000000e+00    706s\n",
      "  259185    7.5442349e+05   9.918211e+09   0.000000e+00    710s\n",
      "  259997    7.9571784e+05   2.798624e+09   0.000000e+00    715s\n",
      "  260714    8.4847301e+05   3.785348e+09   0.000000e+00    720s\n",
      "  261533    9.2559970e+05   3.015310e+09   0.000000e+00    725s\n",
      "  262474    1.0404463e+06   1.588883e+10   0.000000e+00    730s\n",
      "  263387    1.2473103e+06   1.955264e+09   0.000000e+00    735s\n",
      "\n",
      "Solved in 264471 iterations and 739.83 seconds\n",
      "Infeasible model\n",
      "WARNING: Loading a SolverResults object with a warning status into\n",
      "    model=unknown;\n",
      "        message from solver=Model was proven to be infeasible.\n",
      "\n",
      "Status: warning\n",
      "Return code: 0\n",
      "Message: Model was proven to be infeasible.\n",
      "Termination condition: infeasible\n",
      "Termination message: Model was proven to be infeasible.\n",
      "Wall time: 739.826896667\n",
      "Error rc: 0\n",
      "Time: 740.7844486236572\n",
      "\n",
      "\n",
      "Name: x96161\n",
      "Lower bound: -inf\n",
      "Upper bound: inf\n",
      "Number of objectives: 1\n",
      "Number of constraints: 129367\n",
      "Number of variables: 96161\n",
      "Number of binary variables: 0\n",
      "Number of integer variables: 0\n",
      "Number of continuous variables: 96161\n",
      "Number of nonzeros: 400437\n",
      "Sense: minimize\n",
      "\n",
      "Solve time: 745.5104031562805 sec.\n",
      "Optimization problem is infeasible. No output is generated.\n",
      "\t\t(0.0000 sec)\n",
      "\n"
     ]
    }
   ],
   "source": [
    "esM.optimize(timeSeriesAggregation=True, optimizationSpecs='OptimalityTol=1e-3 cuts=0 method=2')"
   ]
  },
  {
   "cell_type": "markdown",
   "metadata": {},
   "source": [
    "# 9. Selected results output\n",
    "\n",
    "Plot locations (GeoPandas required)"
   ]
  },
  {
   "cell_type": "code",
   "execution_count": 33,
   "metadata": {
    "scrolled": true
   },
   "outputs": [
    {
     "data": {
      "image/png": "[encoded data removed]",
      "text/plain": [
       "<Figure size 432x432 with 1 Axes>"
      ]
     },
     "metadata": {
      "needs_background": "light"
     },
     "output_type": "display_data"
    }
   ],
   "source": [
    "# locFilePath = os.path.join(cwd, 'InputData', 'SpatialData','ShapeFiles', 'european_countries/european_countries.shp')\n",
    "\n",
    "locFilePath = os.path.join(r'C:\\Users\\r.beer\\data\\shapefiles\\europe', 'Europe.shp')\n",
    "\n",
    "fig1, ax = fn.plotLocations(locFilePath, plotLocNames=False, indexColumn='abbrev_1')\n"
   ]
  },
  {
   "cell_type": "markdown",
   "metadata": {},
   "source": [
    "### Sources and Sink\n",
    "\n",
    "Show optimization summary"
   ]
  },
  {
   "cell_type": "code",
   "execution_count": 35,
   "metadata": {
    "scrolled": false
   },
   "outputs": [
    {
     "ename": "AttributeError",
     "evalue": "'NoneType' object has no attribute 'dropna'",
     "output_type": "error",
     "traceback": [
      "\u001b[1;31m---------------------------------------------------------------------------\u001b[0m",
      "\u001b[1;31mAttributeError\u001b[0m                            Traceback (most recent call last)",
      "\u001b[1;32m<ipython-input-35-7e9edae00169>\u001b[0m in \u001b[0;36m<module>\u001b[1;34m\u001b[0m\n\u001b[1;32m----> 1\u001b[1;33m \u001b[0mesM\u001b[0m\u001b[1;33m.\u001b[0m\u001b[0mgetOptimizationSummary\u001b[0m\u001b[1;33m(\u001b[0m\u001b[1;34m\"SourceSinkModel\"\u001b[0m\u001b[1;33m,\u001b[0m \u001b[0moutputLevel\u001b[0m\u001b[1;33m=\u001b[0m\u001b[1;36m2\u001b[0m\u001b[1;33m)\u001b[0m\u001b[1;33m.\u001b[0m\u001b[0msum\u001b[0m\u001b[1;33m(\u001b[0m\u001b[0maxis\u001b[0m\u001b[1;33m=\u001b[0m\u001b[1;36m1\u001b[0m\u001b[1;33m)\u001b[0m\u001b[1;33m\u001b[0m\u001b[1;33m\u001b[0m\u001b[0m\n\u001b[0m",
      "\u001b[1;32mc:\\users\\r.beer\\code\\git_repos\\fine\\FINE\\energySystemModel.py\u001b[0m in \u001b[0;36mgetOptimizationSummary\u001b[1;34m(self, modelingClass, outputLevel)\u001b[0m\n\u001b[0;32m    299\u001b[0m             \u001b[1;32mif\u001b[0m \u001b[0moutputLevel\u001b[0m \u001b[1;33m!=\u001b[0m \u001b[1;36m2\u001b[0m \u001b[1;32mand\u001b[0m \u001b[0mself\u001b[0m\u001b[1;33m.\u001b[0m\u001b[0mverbose\u001b[0m \u001b[1;33m<\u001b[0m \u001b[1;36m2\u001b[0m\u001b[1;33m:\u001b[0m\u001b[1;33m\u001b[0m\u001b[1;33m\u001b[0m\u001b[0m\n\u001b[0;32m    300\u001b[0m                 \u001b[0mwarnings\u001b[0m\u001b[1;33m.\u001b[0m\u001b[0mwarn\u001b[0m\u001b[1;33m(\u001b[0m\u001b[1;34m'Invalid input. An outputLevel parameter of 2 is assumed.'\u001b[0m\u001b[1;33m)\u001b[0m\u001b[1;33m\u001b[0m\u001b[1;33m\u001b[0m\u001b[0m\n\u001b[1;32m--> 301\u001b[1;33m             \u001b[0mdf\u001b[0m \u001b[1;33m=\u001b[0m \u001b[0mself\u001b[0m\u001b[1;33m.\u001b[0m\u001b[0mcomponentModelingDict\u001b[0m\u001b[1;33m[\u001b[0m\u001b[0mmodelingClass\u001b[0m\u001b[1;33m]\u001b[0m\u001b[1;33m.\u001b[0m\u001b[0moptSummary\u001b[0m\u001b[1;33m.\u001b[0m\u001b[0mdropna\u001b[0m\u001b[1;33m(\u001b[0m\u001b[0mhow\u001b[0m\u001b[1;33m=\u001b[0m\u001b[1;34m'all'\u001b[0m\u001b[1;33m)\u001b[0m\u001b[1;33m\u001b[0m\u001b[1;33m\u001b[0m\u001b[0m\n\u001b[0m\u001b[0;32m    302\u001b[0m             \u001b[1;32mreturn\u001b[0m \u001b[0mdf\u001b[0m\u001b[1;33m.\u001b[0m\u001b[0mloc\u001b[0m\u001b[1;33m[\u001b[0m\u001b[1;33m(\u001b[0m\u001b[1;33m(\u001b[0m\u001b[0mdf\u001b[0m \u001b[1;33m!=\u001b[0m \u001b[1;36m0\u001b[0m\u001b[1;33m)\u001b[0m \u001b[1;33m&\u001b[0m \u001b[1;33m(\u001b[0m\u001b[1;33m~\u001b[0m\u001b[0mdf\u001b[0m\u001b[1;33m.\u001b[0m\u001b[0misnull\u001b[0m\u001b[1;33m(\u001b[0m\u001b[1;33m)\u001b[0m\u001b[1;33m)\u001b[0m\u001b[1;33m)\u001b[0m\u001b[1;33m.\u001b[0m\u001b[0many\u001b[0m\u001b[1;33m(\u001b[0m\u001b[0maxis\u001b[0m\u001b[1;33m=\u001b[0m\u001b[1;36m1\u001b[0m\u001b[1;33m)\u001b[0m\u001b[1;33m]\u001b[0m\u001b[1;33m\u001b[0m\u001b[1;33m\u001b[0m\u001b[0m\n\u001b[0;32m    303\u001b[0m \u001b[1;33m\u001b[0m\u001b[0m\n",
      "\u001b[1;31mAttributeError\u001b[0m: 'NoneType' object has no attribute 'dropna'"
     ]
    }
   ],
   "source": [
    "esM.getOptimizationSummary(\"SourceSinkModel\", outputLevel=2).sum(axis=1)"
   ]
  },
  {
   "cell_type": "markdown",
   "metadata": {},
   "source": [
    "Plot installed capacities"
   ]
  },
  {
   "cell_type": "code",
   "execution_count": null,
   "metadata": {},
   "outputs": [],
   "source": [
    "# region_shapes_path = 'InputData/SpatialData/ShapeFiles/no data/clusteredRegions.shp'\n",
    "region_shapes_path = os.path.join(r'C:\\Users\\r.beer\\data\\shapefiles\\europe', 'Europe.shp')\n",
    "\n",
    "import geopandas as gpd \n",
    "regional_shape_gdf = gpd.read_file(region_shapes_path)\n"
   ]
  },
  {
   "cell_type": "code",
   "execution_count": null,
   "metadata": {
    "scrolled": false
   },
   "outputs": [],
   "source": [
    "fig, ax = fn.plotLocationalColorMap(esM, 'PV', region_shapes_path, 'ISO2', perArea=True)"
   ]
  },
  {
   "cell_type": "code",
   "execution_count": null,
   "metadata": {},
   "outputs": [],
   "source": [
    "fig, ax = fn.plotLocationalColorMap(esM, 'Wind (onshore)', region_shapes_path, 'ISO2', perArea=True)"
   ]
  },
  {
   "cell_type": "code",
   "execution_count": null,
   "metadata": {},
   "outputs": [],
   "source": [
    "fig, ax = fn.plotLocationalColorMap(esM, 'Wind (offshore)', region_shapes_path, 'ISO2', perArea=True)"
   ]
  },
  {
   "cell_type": "markdown",
   "metadata": {},
   "source": [
    "Plot operation time series (either one or two dimensional)"
   ]
  },
  {
   "cell_type": "code",
   "execution_count": null,
   "metadata": {},
   "outputs": [],
   "source": [
    "fig, ax = fn.plotOperation(esM, 'Electricity demand', 'DE')"
   ]
  },
  {
   "cell_type": "code",
   "execution_count": null,
   "metadata": {},
   "outputs": [],
   "source": [
    "fig, ax = fn.plotOperationColorMap(esM, 'Electricity demand', 'DE')"
   ]
  },
  {
   "cell_type": "markdown",
   "metadata": {},
   "source": [
    "### Conversion\n",
    "\n",
    "Show optimization summary"
   ]
  },
  {
   "cell_type": "code",
   "execution_count": null,
   "metadata": {},
   "outputs": [],
   "source": [
    "esM.getOptimizationSummary(\"ConversionModel\", outputLevel=2)"
   ]
  },
  {
   "cell_type": "code",
   "execution_count": null,
   "metadata": {},
   "outputs": [],
   "source": [
    "# fig, ax = fn.plotOperationColorMap(esM, 'New CCGT plants (biogas)', 'de')"
   ]
  },
  {
   "cell_type": "markdown",
   "metadata": {},
   "source": [
    "### Storage\n",
    "\n",
    "Show optimization summary"
   ]
  },
  {
   "cell_type": "code",
   "execution_count": null,
   "metadata": {},
   "outputs": [],
   "source": [
    "esM.getOptimizationSummary(\"StorageModel\", outputLevel=2)"
   ]
  },
  {
   "cell_type": "code",
   "execution_count": null,
   "metadata": {},
   "outputs": [],
   "source": [
    "fig, ax = fn.plotOperationColorMap(esM, 'Li-ion batteries', 'DE', \n",
    "                                   variableName='stateOfChargeOperationVariablesOptimum')"
   ]
  },
  {
   "cell_type": "code",
   "execution_count": null,
   "metadata": {},
   "outputs": [],
   "source": [
    "# fig, ax = fn.plotOperationColorMap(esM, 'Pumped hydro storage', 'de',\n",
    "#                                   variableName='stateOfChargeOperationVariablesOptimum')"
   ]
  },
  {
   "cell_type": "code",
   "execution_count": null,
   "metadata": {},
   "outputs": [],
   "source": [
    "# fig, ax = fn.plotOperationColorMap(esM, 'Salt caverns (biogas)', 'de',\n",
    "#                                   variableName='stateOfChargeOperationVariablesOptimum')"
   ]
  },
  {
   "cell_type": "code",
   "execution_count": null,
   "metadata": {},
   "outputs": [],
   "source": [
    "# fig, ax = fn.plotOperationColorMap(esM, 'Salt caverns (hydrogen)', 'de',\n",
    "#                                   variableName='stateOfChargeOperationVariablesOptimum')"
   ]
  },
  {
   "cell_type": "markdown",
   "metadata": {},
   "source": [
    "## Transmission\n",
    "\n",
    "Show optimization summary"
   ]
  },
  {
   "cell_type": "code",
   "execution_count": null,
   "metadata": {
    "scrolled": false
   },
   "outputs": [],
   "source": [
    "esM.getOptimizationSummary(\"TransmissionModel\", outputLevel=2)"
   ]
  },
  {
   "cell_type": "markdown",
   "metadata": {},
   "source": [
    "Check that the shared capacity of the pipelines are not exceeded"
   ]
  },
  {
   "cell_type": "code",
   "execution_count": null,
   "metadata": {},
   "outputs": [],
   "source": [
    "# df=esM.componentModelingDict[\"TransmissionModel\"].capacityVariablesOptimum\n",
    "# df.loc['Pipelines (biogas)']+df.loc['Pipelines (hydrogen)']"
   ]
  },
  {
   "cell_type": "markdown",
   "metadata": {},
   "source": [
    "Plot installed transmission capacities"
   ]
  },
  {
   "cell_type": "code",
   "execution_count": null,
   "metadata": {},
   "outputs": [],
   "source": [
    "transFilePath = os.path.join(cwd, 'InputData', 'SpatialData','ShapeFiles', 'AClines.shp')\n",
    "\n",
    "fig, ax = fn.plotLocations(locFilePath, indexColumn='index')                                 \n",
    "fig, ax = fn.plotTransmission(esM, 'AC cables', transFilePath, loc0='bus0', loc1='bus1', fig=fig, ax=ax)"
   ]
  },
  {
   "cell_type": "code",
   "execution_count": null,
   "metadata": {},
   "outputs": [],
   "source": [
    "# transFilePath = os.path.join(cwd, 'InputData', 'SpatialData','ShapeFiles', 'DClines.shp')\n",
    "\n",
    "# fig, ax = fn.plotLocations(locFilePath, indexColumn='index')                                 \n",
    "# fig, ax = fn.plotTransmission(esM, 'DC cables', transFilePath, loc0='cluster0', loc1='cluster1', fig=fig, ax=ax)"
   ]
  },
  {
   "cell_type": "code",
   "execution_count": null,
   "metadata": {},
   "outputs": [],
   "source": [
    "transFilePath = os.path.join(cwd, 'InputData', 'SpatialData','ShapeFiles', 'transmissionPipeline.shp')\n",
    "\n",
    "fig, ax = fn.plotLocations(locFilePath, indexColumn='index')                                 \n",
    "fig, ax = fn.plotTransmission(esM, 'Pipelines (hydrogen)', transFilePath, loc0='cluster0', loc1='cluster1',\n",
    "                              fig=fig, ax=ax)"
   ]
  },
  {
   "cell_type": "code",
   "execution_count": null,
   "metadata": {},
   "outputs": [],
   "source": [
    "transFilePath = os.path.join(cwd, 'InputData', 'SpatialData','ShapeFiles', 'transmissionPipeline.shp')\n",
    "\n",
    "fig, ax = fn.plotLocations(locFilePath, indexColumn='index')                                 \n",
    "fig, ax = fn.plotTransmission(esM, 'Pipelines (biogas)', transFilePath, loc0='cluster0', loc1='cluster1',\n",
    "                              fig=fig, ax=ax)"
   ]
  }
 ],
 "metadata": {
  "anaconda-cloud": {},
  "kernelspec": {
   "display_name": "Python 3",
   "language": "python",
   "name": "python3"
  },
  "language_info": {
   "codemirror_mode": {
    "name": "ipython",
    "version": 3
   },
   "file_extension": ".py",
   "mimetype": "text/x-python",
   "name": "python",
   "nbconvert_exporter": "python",
   "pygments_lexer": "ipython3",
   "version": "3.7.2"
  }
 },
 "nbformat": 4,
 "nbformat_minor": 1
}
