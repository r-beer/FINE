{
 "cells": [
  {
   "cell_type": "markdown",
   "metadata": {},
   "source": [
    "# Workflow for a multi-regional energy system\n",
    "\n",
    "In this application of the FINE framework, a multi-regional energy system is modeled and optimized.\n",
    "\n",
    "All classes which are available to the user are utilized and examples of the selection of different parameters within these classes are given.\n",
    "\n",
    "The workflow is structures as follows:\n",
    "1. Required packages are imported and the input data path is set\n",
    "2. An energy system model instance is created\n",
    "3. Commodity sources are added to the energy system model\n",
    "4. Commodity conversion components are added to the energy system model\n",
    "5. Commodity storages are added to the energy system model\n",
    "6. Commodity transmission components are added to the energy system model\n",
    "7. Commodity sinks are added to the energy system model\n",
    "8. The energy system model is optimized\n",
    "9. Selected optimization results are presented\n"
   ]
  },
  {
   "cell_type": "markdown",
   "metadata": {},
   "source": [
    "# 1. Import required packages and set input data path\n",
    "\n",
    "The FINE framework is imported which provides the required classes and functions for modeling the energy system."
   ]
  },
  {
   "cell_type": "code",
   "execution_count": 1,
   "metadata": {},
   "outputs": [],
   "source": [
    "import FINE as fn\n",
    "from getData import getData\n",
    "import os\n",
    "cwd = os.getcwd()\n",
    "data = getData()\n",
    "\n",
    "%matplotlib inline  \n",
    "%reload_ext autoreload\n",
    "%autoreload 2"
   ]
  },
  {
   "cell_type": "markdown",
   "metadata": {},
   "source": [
    "# 2. Create an energy system model instance \n",
    "\n",
    "The structure of the energy system model is given by the considered locations, commodities, the number of time steps as well as the hours per time step.\n",
    "\n",
    "The commodities are specified by a unit (i.e. 'GW_electric', 'GW_H2lowerHeatingValue', 'Mio. t CO2/h') which can be given as an energy or mass unit per hour. Furthermore, the cost unit and length unit are specified."
   ]
  },
  {
   "cell_type": "code",
   "execution_count": 2,
   "metadata": {},
   "outputs": [],
   "source": [
    "locations = {'es', 'pt', 'fr', 'be', 'lu', 'nl', 'de', 'dk', 'cz', 'pl', 'sk', 'ch', 'at', 'it', 'si', 'hu', 'ro', 'hr', 'ba', 'me', 'rs', 'bg', 'mk', 'gr', 'al', 'ee', 'fi', 'lt', 'lv', 'no', 'se', 'uk', 'ie'}\n",
    "\n",
    "commodityUnitDict = {'electricity': r'GW$_{el}$', 'methane': r'GW$_{CH_{4},LHV}$', 'biogas': r'GW$_{biogas,LHV}$',\n",
    "                     'CO2': r'Mio. t$_{CO_2}$/h', 'hydrogen': r'GW$_{H_{2},LHV}$'}\n",
    "commodities = {'electricity', 'hydrogen', 'methane', 'biogas', 'CO2'}\n",
    "numberOfTimeSteps = 8760\n",
    "hoursPerTimeStep = 1"
   ]
  },
  {
   "cell_type": "code",
   "execution_count": 3,
   "metadata": {},
   "outputs": [],
   "source": [
    "esM = fn.EnergySystemModel(locations=locations, commodities=commodities, numberOfTimeSteps=8760, \n",
    "                           commodityUnitsDict=commodityUnitDict, hoursPerTimeStep=1, \n",
    "                           costUnit='1e9 Euro', lengthUnit='km', verboseLogLevel=0)"
   ]
  },
  {
   "cell_type": "code",
   "execution_count": 4,
   "metadata": {},
   "outputs": [],
   "source": [
    "CO2_reductionTarget = 0.5"
   ]
  },
  {
   "cell_type": "markdown",
   "metadata": {},
   "source": [
    "# 3. Add commodity sources to the energy system model"
   ]
  },
  {
   "cell_type": "markdown",
   "metadata": {},
   "source": [
    "## 3.1. Electricity sources"
   ]
  },
  {
   "cell_type": "markdown",
   "metadata": {},
   "source": [
    "### Wind onshore"
   ]
  },
  {
   "cell_type": "code",
   "execution_count": 7,
   "metadata": {},
   "outputs": [
    {
     "data": {
      "text/html": [
       "<div>\n",
       "<style scoped>\n",
       "    .dataframe tbody tr th:only-of-type {\n",
       "        vertical-align: middle;\n",
       "    }\n",
       "\n",
       "    .dataframe tbody tr th {\n",
       "        vertical-align: top;\n",
       "    }\n",
       "\n",
       "    .dataframe thead th {\n",
       "        text-align: right;\n",
       "    }\n",
       "</style>\n",
       "<table border=\"1\" class=\"dataframe\">\n",
       "  <thead>\n",
       "    <tr style=\"text-align: right;\">\n",
       "      <th></th>\n",
       "      <th>es</th>\n",
       "      <th>pt</th>\n",
       "      <th>fr</th>\n",
       "      <th>be</th>\n",
       "      <th>lu</th>\n",
       "      <th>nl</th>\n",
       "      <th>de</th>\n",
       "      <th>dk</th>\n",
       "      <th>cz</th>\n",
       "      <th>pl</th>\n",
       "      <th>...</th>\n",
       "      <th>gr</th>\n",
       "      <th>al</th>\n",
       "      <th>ee</th>\n",
       "      <th>fi</th>\n",
       "      <th>lt</th>\n",
       "      <th>lv</th>\n",
       "      <th>no</th>\n",
       "      <th>se</th>\n",
       "      <th>uk</th>\n",
       "      <th>ie</th>\n",
       "    </tr>\n",
       "  </thead>\n",
       "  <tbody>\n",
       "    <tr>\n",
       "      <th>0</th>\n",
       "      <td>0.612055</td>\n",
       "      <td>0.320234</td>\n",
       "      <td>0.365485</td>\n",
       "      <td>0.266459</td>\n",
       "      <td>0.002755</td>\n",
       "      <td>0.780127</td>\n",
       "      <td>0.357789</td>\n",
       "      <td>0.861533</td>\n",
       "      <td>0.334242</td>\n",
       "      <td>0.502817</td>\n",
       "      <td>...</td>\n",
       "      <td>0.557528</td>\n",
       "      <td>0.363679</td>\n",
       "      <td>0.496978</td>\n",
       "      <td>0.495399</td>\n",
       "      <td>0.648993</td>\n",
       "      <td>0.612986</td>\n",
       "      <td>0.862077</td>\n",
       "      <td>0.847531</td>\n",
       "      <td>0.964338</td>\n",
       "      <td>0.987756</td>\n",
       "    </tr>\n",
       "    <tr>\n",
       "      <th>1</th>\n",
       "      <td>0.603556</td>\n",
       "      <td>0.402445</td>\n",
       "      <td>0.356907</td>\n",
       "      <td>0.265098</td>\n",
       "      <td>0.001734</td>\n",
       "      <td>0.771503</td>\n",
       "      <td>0.386465</td>\n",
       "      <td>0.878060</td>\n",
       "      <td>0.325241</td>\n",
       "      <td>0.523413</td>\n",
       "      <td>...</td>\n",
       "      <td>0.581425</td>\n",
       "      <td>0.403273</td>\n",
       "      <td>0.496951</td>\n",
       "      <td>0.497074</td>\n",
       "      <td>0.671976</td>\n",
       "      <td>0.633996</td>\n",
       "      <td>0.847553</td>\n",
       "      <td>0.856157</td>\n",
       "      <td>0.969142</td>\n",
       "      <td>0.993290</td>\n",
       "    </tr>\n",
       "    <tr>\n",
       "      <th>2</th>\n",
       "      <td>0.563280</td>\n",
       "      <td>0.459520</td>\n",
       "      <td>0.352002</td>\n",
       "      <td>0.288828</td>\n",
       "      <td>0.000708</td>\n",
       "      <td>0.808375</td>\n",
       "      <td>0.415034</td>\n",
       "      <td>0.897096</td>\n",
       "      <td>0.327914</td>\n",
       "      <td>0.553777</td>\n",
       "      <td>...</td>\n",
       "      <td>0.615694</td>\n",
       "      <td>0.422772</td>\n",
       "      <td>0.499542</td>\n",
       "      <td>0.489534</td>\n",
       "      <td>0.692132</td>\n",
       "      <td>0.671415</td>\n",
       "      <td>0.837682</td>\n",
       "      <td>0.859826</td>\n",
       "      <td>0.976722</td>\n",
       "      <td>0.994205</td>\n",
       "    </tr>\n",
       "    <tr>\n",
       "      <th>3</th>\n",
       "      <td>0.512057</td>\n",
       "      <td>0.453103</td>\n",
       "      <td>0.360904</td>\n",
       "      <td>0.348710</td>\n",
       "      <td>0.000236</td>\n",
       "      <td>0.821057</td>\n",
       "      <td>0.417142</td>\n",
       "      <td>0.922484</td>\n",
       "      <td>0.338969</td>\n",
       "      <td>0.558177</td>\n",
       "      <td>...</td>\n",
       "      <td>0.653282</td>\n",
       "      <td>0.446632</td>\n",
       "      <td>0.531496</td>\n",
       "      <td>0.491244</td>\n",
       "      <td>0.701029</td>\n",
       "      <td>0.688212</td>\n",
       "      <td>0.836023</td>\n",
       "      <td>0.864856</td>\n",
       "      <td>0.969663</td>\n",
       "      <td>0.982910</td>\n",
       "    </tr>\n",
       "    <tr>\n",
       "      <th>4</th>\n",
       "      <td>0.466691</td>\n",
       "      <td>0.416071</td>\n",
       "      <td>0.366538</td>\n",
       "      <td>0.361301</td>\n",
       "      <td>0.000079</td>\n",
       "      <td>0.814861</td>\n",
       "      <td>0.444327</td>\n",
       "      <td>0.952568</td>\n",
       "      <td>0.355673</td>\n",
       "      <td>0.551583</td>\n",
       "      <td>...</td>\n",
       "      <td>0.688678</td>\n",
       "      <td>0.454198</td>\n",
       "      <td>0.563107</td>\n",
       "      <td>0.494297</td>\n",
       "      <td>0.711710</td>\n",
       "      <td>0.708137</td>\n",
       "      <td>0.853215</td>\n",
       "      <td>0.862601</td>\n",
       "      <td>0.950774</td>\n",
       "      <td>0.988078</td>\n",
       "    </tr>\n",
       "  </tbody>\n",
       "</table>\n",
       "<p>5 rows × 33 columns</p>\n",
       "</div>"
      ],
      "text/plain": [
       "         es        pt        fr        be        lu        nl        de  \\\n",
       "0  0.612055  0.320234  0.365485  0.266459  0.002755  0.780127  0.357789   \n",
       "1  0.603556  0.402445  0.356907  0.265098  0.001734  0.771503  0.386465   \n",
       "2  0.563280  0.459520  0.352002  0.288828  0.000708  0.808375  0.415034   \n",
       "3  0.512057  0.453103  0.360904  0.348710  0.000236  0.821057  0.417142   \n",
       "4  0.466691  0.416071  0.366538  0.361301  0.000079  0.814861  0.444327   \n",
       "\n",
       "         dk        cz        pl  ...        gr        al        ee        fi  \\\n",
       "0  0.861533  0.334242  0.502817  ...  0.557528  0.363679  0.496978  0.495399   \n",
       "1  0.878060  0.325241  0.523413  ...  0.581425  0.403273  0.496951  0.497074   \n",
       "2  0.897096  0.327914  0.553777  ...  0.615694  0.422772  0.499542  0.489534   \n",
       "3  0.922484  0.338969  0.558177  ...  0.653282  0.446632  0.531496  0.491244   \n",
       "4  0.952568  0.355673  0.551583  ...  0.688678  0.454198  0.563107  0.494297   \n",
       "\n",
       "         lt        lv        no        se        uk        ie  \n",
       "0  0.648993  0.612986  0.862077  0.847531  0.964338  0.987756  \n",
       "1  0.671976  0.633996  0.847553  0.856157  0.969142  0.993290  \n",
       "2  0.692132  0.671415  0.837682  0.859826  0.976722  0.994205  \n",
       "3  0.701029  0.688212  0.836023  0.864856  0.969663  0.982910  \n",
       "4  0.711710  0.708137  0.853215  0.862601  0.950774  0.988078  \n",
       "\n",
       "[5 rows x 33 columns]"
      ]
     },
     "execution_count": 7,
     "metadata": {},
     "output_type": "execute_result"
    }
   ],
   "source": [
    "data['Wind (onshore), operationRateMax'].head()"
   ]
  },
  {
   "cell_type": "code",
   "execution_count": 8,
   "metadata": {},
   "outputs": [
    {
     "data": {
      "text/html": [
       "<div>\n",
       "<style scoped>\n",
       "    .dataframe tbody tr th:only-of-type {\n",
       "        vertical-align: middle;\n",
       "    }\n",
       "\n",
       "    .dataframe tbody tr th {\n",
       "        vertical-align: top;\n",
       "    }\n",
       "\n",
       "    .dataframe thead th {\n",
       "        text-align: right;\n",
       "    }\n",
       "</style>\n",
       "<table border=\"1\" class=\"dataframe\">\n",
       "  <thead>\n",
       "    <tr style=\"text-align: right;\">\n",
       "      <th></th>\n",
       "      <th>es</th>\n",
       "      <th>pt</th>\n",
       "      <th>fr</th>\n",
       "      <th>be</th>\n",
       "      <th>lu</th>\n",
       "      <th>nl</th>\n",
       "      <th>de</th>\n",
       "      <th>dk</th>\n",
       "      <th>cz</th>\n",
       "      <th>pl</th>\n",
       "      <th>...</th>\n",
       "      <th>gr</th>\n",
       "      <th>al</th>\n",
       "      <th>ee</th>\n",
       "      <th>fi</th>\n",
       "      <th>lt</th>\n",
       "      <th>lv</th>\n",
       "      <th>no</th>\n",
       "      <th>se</th>\n",
       "      <th>uk</th>\n",
       "      <th>ie</th>\n",
       "    </tr>\n",
       "  </thead>\n",
       "  <tbody>\n",
       "    <tr>\n",
       "      <th>0</th>\n",
       "      <td>68.464513</td>\n",
       "      <td>11.78007</td>\n",
       "      <td>121.949588</td>\n",
       "      <td>10.829575</td>\n",
       "      <td>0.734023</td>\n",
       "      <td>14.896005</td>\n",
       "      <td>97.646604</td>\n",
       "      <td>18.582013</td>\n",
       "      <td>10.16508</td>\n",
       "      <td>81.365301</td>\n",
       "      <td>...</td>\n",
       "      <td>25.619536</td>\n",
       "      <td>2.416273</td>\n",
       "      <td>8.086175</td>\n",
       "      <td>29.329323</td>\n",
       "      <td>15.060887</td>\n",
       "      <td>13.717992</td>\n",
       "      <td>12.083263</td>\n",
       "      <td>23.994552</td>\n",
       "      <td>92.47299</td>\n",
       "      <td>13.536224</td>\n",
       "    </tr>\n",
       "    <tr>\n",
       "      <th>1</th>\n",
       "      <td>68.464513</td>\n",
       "      <td>11.78007</td>\n",
       "      <td>121.949588</td>\n",
       "      <td>10.829575</td>\n",
       "      <td>0.734023</td>\n",
       "      <td>14.896005</td>\n",
       "      <td>97.646604</td>\n",
       "      <td>18.582013</td>\n",
       "      <td>10.16508</td>\n",
       "      <td>81.365301</td>\n",
       "      <td>...</td>\n",
       "      <td>25.619536</td>\n",
       "      <td>2.416273</td>\n",
       "      <td>8.086175</td>\n",
       "      <td>29.329323</td>\n",
       "      <td>15.060887</td>\n",
       "      <td>13.717992</td>\n",
       "      <td>12.083263</td>\n",
       "      <td>23.994552</td>\n",
       "      <td>92.47299</td>\n",
       "      <td>13.536224</td>\n",
       "    </tr>\n",
       "    <tr>\n",
       "      <th>2</th>\n",
       "      <td>68.464513</td>\n",
       "      <td>11.78007</td>\n",
       "      <td>121.949588</td>\n",
       "      <td>10.829575</td>\n",
       "      <td>0.734023</td>\n",
       "      <td>14.896005</td>\n",
       "      <td>97.646604</td>\n",
       "      <td>18.582013</td>\n",
       "      <td>10.16508</td>\n",
       "      <td>81.365301</td>\n",
       "      <td>...</td>\n",
       "      <td>25.619536</td>\n",
       "      <td>2.416273</td>\n",
       "      <td>8.086175</td>\n",
       "      <td>29.329323</td>\n",
       "      <td>15.060887</td>\n",
       "      <td>13.717992</td>\n",
       "      <td>12.083263</td>\n",
       "      <td>23.994552</td>\n",
       "      <td>92.47299</td>\n",
       "      <td>13.536224</td>\n",
       "    </tr>\n",
       "    <tr>\n",
       "      <th>3</th>\n",
       "      <td>68.464513</td>\n",
       "      <td>11.78007</td>\n",
       "      <td>121.949588</td>\n",
       "      <td>10.829575</td>\n",
       "      <td>0.734023</td>\n",
       "      <td>14.896005</td>\n",
       "      <td>97.646604</td>\n",
       "      <td>18.582013</td>\n",
       "      <td>10.16508</td>\n",
       "      <td>81.365301</td>\n",
       "      <td>...</td>\n",
       "      <td>25.619536</td>\n",
       "      <td>2.416273</td>\n",
       "      <td>8.086175</td>\n",
       "      <td>29.329323</td>\n",
       "      <td>15.060887</td>\n",
       "      <td>13.717992</td>\n",
       "      <td>12.083263</td>\n",
       "      <td>23.994552</td>\n",
       "      <td>92.47299</td>\n",
       "      <td>13.536224</td>\n",
       "    </tr>\n",
       "    <tr>\n",
       "      <th>4</th>\n",
       "      <td>68.464513</td>\n",
       "      <td>11.78007</td>\n",
       "      <td>121.949588</td>\n",
       "      <td>10.829575</td>\n",
       "      <td>0.734023</td>\n",
       "      <td>14.896005</td>\n",
       "      <td>97.646604</td>\n",
       "      <td>18.582013</td>\n",
       "      <td>10.16508</td>\n",
       "      <td>81.365301</td>\n",
       "      <td>...</td>\n",
       "      <td>25.619536</td>\n",
       "      <td>2.416273</td>\n",
       "      <td>8.086175</td>\n",
       "      <td>29.329323</td>\n",
       "      <td>15.060887</td>\n",
       "      <td>13.717992</td>\n",
       "      <td>12.083263</td>\n",
       "      <td>23.994552</td>\n",
       "      <td>92.47299</td>\n",
       "      <td>13.536224</td>\n",
       "    </tr>\n",
       "  </tbody>\n",
       "</table>\n",
       "<p>5 rows × 33 columns</p>\n",
       "</div>"
      ],
      "text/plain": [
       "          es        pt          fr         be        lu         nl         de  \\\n",
       "0  68.464513  11.78007  121.949588  10.829575  0.734023  14.896005  97.646604   \n",
       "1  68.464513  11.78007  121.949588  10.829575  0.734023  14.896005  97.646604   \n",
       "2  68.464513  11.78007  121.949588  10.829575  0.734023  14.896005  97.646604   \n",
       "3  68.464513  11.78007  121.949588  10.829575  0.734023  14.896005  97.646604   \n",
       "4  68.464513  11.78007  121.949588  10.829575  0.734023  14.896005  97.646604   \n",
       "\n",
       "          dk        cz         pl  ...         gr        al        ee  \\\n",
       "0  18.582013  10.16508  81.365301  ...  25.619536  2.416273  8.086175   \n",
       "1  18.582013  10.16508  81.365301  ...  25.619536  2.416273  8.086175   \n",
       "2  18.582013  10.16508  81.365301  ...  25.619536  2.416273  8.086175   \n",
       "3  18.582013  10.16508  81.365301  ...  25.619536  2.416273  8.086175   \n",
       "4  18.582013  10.16508  81.365301  ...  25.619536  2.416273  8.086175   \n",
       "\n",
       "          fi         lt         lv         no         se        uk         ie  \n",
       "0  29.329323  15.060887  13.717992  12.083263  23.994552  92.47299  13.536224  \n",
       "1  29.329323  15.060887  13.717992  12.083263  23.994552  92.47299  13.536224  \n",
       "2  29.329323  15.060887  13.717992  12.083263  23.994552  92.47299  13.536224  \n",
       "3  29.329323  15.060887  13.717992  12.083263  23.994552  92.47299  13.536224  \n",
       "4  29.329323  15.060887  13.717992  12.083263  23.994552  92.47299  13.536224  \n",
       "\n",
       "[5 rows x 33 columns]"
      ]
     },
     "execution_count": 8,
     "metadata": {},
     "output_type": "execute_result"
    }
   ],
   "source": [
    "data['Wind (onshore), capacityMax'].head()"
   ]
  },
  {
   "cell_type": "code",
   "execution_count": 6,
   "metadata": {},
   "outputs": [
    {
     "ename": "TypeError",
     "evalue": "Input data has to be a pandas Series",
     "output_type": "error",
     "traceback": [
      "\u001b[1;31m---------------------------------------------------------------------------\u001b[0m",
      "\u001b[1;31mTypeError\u001b[0m                                 Traceback (most recent call last)",
      "\u001b[1;32m<ipython-input-6-4a8d54310976>\u001b[0m in \u001b[0;36m<module>\u001b[1;34m\u001b[0m\n\u001b[0;32m      3\u001b[0m                   \u001b[0mcapacityMax\u001b[0m\u001b[1;33m=\u001b[0m\u001b[0mdata\u001b[0m\u001b[1;33m[\u001b[0m\u001b[1;34m'Wind (onshore), capacityMax'\u001b[0m\u001b[1;33m]\u001b[0m\u001b[1;33m,\u001b[0m\u001b[1;33m\u001b[0m\u001b[1;33m\u001b[0m\u001b[0m\n\u001b[0;32m      4\u001b[0m                   \u001b[0minvestPerCapacity\u001b[0m\u001b[1;33m=\u001b[0m\u001b[1;36m1.1\u001b[0m\u001b[1;33m,\u001b[0m \u001b[0mopexPerCapacity\u001b[0m\u001b[1;33m=\u001b[0m\u001b[1;36m1.1\u001b[0m\u001b[1;33m*\u001b[0m\u001b[1;36m0.02\u001b[0m\u001b[1;33m,\u001b[0m \u001b[0minterestRate\u001b[0m\u001b[1;33m=\u001b[0m\u001b[1;36m0.08\u001b[0m\u001b[1;33m,\u001b[0m\u001b[1;33m\u001b[0m\u001b[1;33m\u001b[0m\u001b[0m\n\u001b[1;32m----> 5\u001b[1;33m                   economicLifetime=25))\n\u001b[0m",
      "\u001b[1;32mc:\\users\\r.beer\\code\\git_repos\\fine\\FINE\\sourceSink.py\u001b[0m in \u001b[0;36m__init__\u001b[1;34m(self, esM, name, commodity, hasCapacityVariable, capacityVariableDomain, capacityPerPlantUnit, hasIsBuiltBinaryVariable, bigM, operationRateMax, operationRateFix, tsaWeight, commodityLimitID, yearlyLimit, locationalEligibility, capacityMin, capacityMax, sharedPotentialID, capacityFix, isBuiltFix, investPerCapacity, investIfBuilt, opexPerOperation, commodityCost, commodityRevenue, opexPerCapacity, opexIfBuilt, interestRate, economicLifetime)\u001b[0m\n\u001b[0;32m    131\u001b[0m                             \u001b[0misBuiltFix\u001b[0m\u001b[1;33m=\u001b[0m\u001b[0misBuiltFix\u001b[0m\u001b[1;33m,\u001b[0m \u001b[0minvestPerCapacity\u001b[0m\u001b[1;33m=\u001b[0m\u001b[0minvestPerCapacity\u001b[0m\u001b[1;33m,\u001b[0m \u001b[0minvestIfBuilt\u001b[0m\u001b[1;33m=\u001b[0m\u001b[0minvestIfBuilt\u001b[0m\u001b[1;33m,\u001b[0m\u001b[1;33m\u001b[0m\u001b[1;33m\u001b[0m\u001b[0m\n\u001b[0;32m    132\u001b[0m                             \u001b[0mopexPerCapacity\u001b[0m\u001b[1;33m=\u001b[0m\u001b[0mopexPerCapacity\u001b[0m\u001b[1;33m,\u001b[0m \u001b[0mopexIfBuilt\u001b[0m\u001b[1;33m=\u001b[0m\u001b[0mopexIfBuilt\u001b[0m\u001b[1;33m,\u001b[0m \u001b[0minterestRate\u001b[0m\u001b[1;33m=\u001b[0m\u001b[0minterestRate\u001b[0m\u001b[1;33m,\u001b[0m\u001b[1;33m\u001b[0m\u001b[1;33m\u001b[0m\u001b[0m\n\u001b[1;32m--> 133\u001b[1;33m                             economicLifetime=economicLifetime)\n\u001b[0m\u001b[0;32m    134\u001b[0m \u001b[1;33m\u001b[0m\u001b[0m\n\u001b[0;32m    135\u001b[0m         \u001b[1;31m# Set general source/sink data: ID and yearly limit\u001b[0m\u001b[1;33m\u001b[0m\u001b[1;33m\u001b[0m\u001b[1;33m\u001b[0m\u001b[0m\n",
      "\u001b[1;32mc:\\users\\r.beer\\code\\git_repos\\fine\\FINE\\component.py\u001b[0m in \u001b[0;36m__init__\u001b[1;34m(self, esM, name, dimension, hasCapacityVariable, capacityVariableDomain, capacityPerPlantUnit, hasIsBuiltBinaryVariable, bigM, locationalEligibility, capacityMin, capacityMax, sharedPotentialID, capacityFix, isBuiltFix, investPerCapacity, investIfBuilt, opexPerCapacity, opexIfBuilt, interestRate, economicLifetime)\u001b[0m\n\u001b[0;32m    288\u001b[0m         \u001b[0mself\u001b[0m\u001b[1;33m.\u001b[0m\u001b[0mcapacityMin\u001b[0m\u001b[1;33m,\u001b[0m \u001b[0mself\u001b[0m\u001b[1;33m.\u001b[0m\u001b[0mcapacityMax\u001b[0m\u001b[1;33m,\u001b[0m \u001b[0mself\u001b[0m\u001b[1;33m.\u001b[0m\u001b[0mcapacityFix\u001b[0m \u001b[1;33m=\u001b[0m \u001b[0mcapacityMin\u001b[0m\u001b[1;33m,\u001b[0m \u001b[0mcapacityMax\u001b[0m\u001b[1;33m,\u001b[0m \u001b[0mcapacityFix\u001b[0m\u001b[1;33m\u001b[0m\u001b[1;33m\u001b[0m\u001b[0m\n\u001b[0;32m    289\u001b[0m         \u001b[0mself\u001b[0m\u001b[1;33m.\u001b[0m\u001b[0misBuiltFix\u001b[0m \u001b[1;33m=\u001b[0m \u001b[0misBuiltFix\u001b[0m\u001b[1;33m\u001b[0m\u001b[1;33m\u001b[0m\u001b[0m\n\u001b[1;32m--> 290\u001b[1;33m         \u001b[0mutils\u001b[0m\u001b[1;33m.\u001b[0m\u001b[0mcheckLocationSpecficDesignInputParams\u001b[0m\u001b[1;33m(\u001b[0m\u001b[0mself\u001b[0m\u001b[1;33m,\u001b[0m \u001b[0mesM\u001b[0m\u001b[1;33m)\u001b[0m\u001b[1;33m\u001b[0m\u001b[1;33m\u001b[0m\u001b[0m\n\u001b[0m\u001b[0;32m    291\u001b[0m         \u001b[1;31m#\u001b[0m\u001b[1;33m\u001b[0m\u001b[1;33m\u001b[0m\u001b[1;33m\u001b[0m\u001b[0m\n\u001b[0;32m    292\u001b[0m         \u001b[1;31m# # Variables at optimum (set after optimization)\u001b[0m\u001b[1;33m\u001b[0m\u001b[1;33m\u001b[0m\u001b[1;33m\u001b[0m\u001b[0m\n",
      "\u001b[1;32mc:\\users\\r.beer\\code\\git_repos\\fine\\FINE\\utils.py\u001b[0m in \u001b[0;36mcheckLocationSpecficDesignInputParams\u001b[1;34m(comp, esM)\u001b[0m\n\u001b[0;32m    225\u001b[0m             \u001b[1;32mif\u001b[0m \u001b[0mcomp\u001b[0m\u001b[1;33m.\u001b[0m\u001b[0mdimension\u001b[0m \u001b[1;33m==\u001b[0m \u001b[1;34m'1dim'\u001b[0m\u001b[1;33m:\u001b[0m\u001b[1;33m\u001b[0m\u001b[1;33m\u001b[0m\u001b[0m\n\u001b[0;32m    226\u001b[0m                 \u001b[1;32mif\u001b[0m \u001b[1;32mnot\u001b[0m \u001b[0misinstance\u001b[0m\u001b[1;33m(\u001b[0m\u001b[0mdata\u001b[0m\u001b[1;33m,\u001b[0m \u001b[0mpd\u001b[0m\u001b[1;33m.\u001b[0m\u001b[0mSeries\u001b[0m\u001b[1;33m)\u001b[0m\u001b[1;33m:\u001b[0m\u001b[1;33m\u001b[0m\u001b[1;33m\u001b[0m\u001b[0m\n\u001b[1;32m--> 227\u001b[1;33m                     \u001b[1;32mraise\u001b[0m \u001b[0mTypeError\u001b[0m\u001b[1;33m(\u001b[0m\u001b[1;34m'Input data has to be a pandas Series'\u001b[0m\u001b[1;33m)\u001b[0m\u001b[1;33m\u001b[0m\u001b[1;33m\u001b[0m\u001b[0m\n\u001b[0m\u001b[0;32m    228\u001b[0m                 \u001b[0mcheckRegionalIndex\u001b[0m\u001b[1;33m(\u001b[0m\u001b[0mesM\u001b[0m\u001b[1;33m,\u001b[0m \u001b[0mdata\u001b[0m\u001b[1;33m)\u001b[0m\u001b[1;33m\u001b[0m\u001b[1;33m\u001b[0m\u001b[0m\n\u001b[0;32m    229\u001b[0m             \u001b[1;32melif\u001b[0m \u001b[0mcomp\u001b[0m\u001b[1;33m.\u001b[0m\u001b[0mdimension\u001b[0m \u001b[1;33m==\u001b[0m \u001b[1;34m'2dim'\u001b[0m\u001b[1;33m:\u001b[0m\u001b[1;33m\u001b[0m\u001b[1;33m\u001b[0m\u001b[0m\n",
      "\u001b[1;31mTypeError\u001b[0m: Input data has to be a pandas Series"
     ]
    }
   ],
   "source": [
    "esM.add(fn.Source(esM=esM, name='Wind (onshore)', commodity='electricity', hasCapacityVariable=True,\n",
    "                  operationRateMax=data['Wind (onshore), operationRateMax'],\n",
    "                  capacityMax=data['Wind (onshore), capacityMax'],\n",
    "                  investPerCapacity=1.1, opexPerCapacity=1.1*0.02, interestRate=0.08,\n",
    "                  economicLifetime=25))"
   ]
  },
  {
   "cell_type": "code",
   "execution_count": null,
   "metadata": {},
   "outputs": [],
   "source": [
    "from os.path import join\n",
    "cwd = os.getcwd()\n",
    "data_path = 'C:\\\\Users\\\\r.beer\\\\code\\\\git_repos\\\\FINE\\\\examples\\\\EU_without_aggregation' + '\\\\InputData\\\\SpatialData\\\\'\n",
    "\n",
    "# visualize shapefiles\n",
    "path_e_highway_sev2 = join(data_path, 'ShapeFiles\\\\e-highway_sev2.shp')\n",
    "path_e_highway_sev_full = join(data_path, 'ShapeFiles\\\\e-highway_sev-full.shp')\n"
   ]
  },
  {
   "cell_type": "code",
   "execution_count": null,
   "metadata": {},
   "outputs": [],
   "source": [
    "path_e_highway_sev2\n"
   ]
  },
  {
   "cell_type": "code",
   "execution_count": null,
   "metadata": {},
   "outputs": [],
   "source": [
    "data['Wind (onshore), capacityMax']\n"
   ]
  },
  {
   "cell_type": "markdown",
   "metadata": {},
   "source": [
    "### Wind offshore"
   ]
  },
  {
   "cell_type": "code",
   "execution_count": null,
   "metadata": {},
   "outputs": [],
   "source": [
    "esM.add(fn.Source(esM=esM, name='Wind (offshore)', commodity='electricity', hasCapacityVariable=True,\n",
    "                  operationRateMax=data['Wind (offshore), operationRateMax'],\n",
    "                  capacityMax=data['Wind (offshore), capacityMax'],\n",
    "                  investPerCapacity=2.3, opexPerCapacity=2.3*0.02, interestRate=0.08,\n",
    "                  economicLifetime=20))"
   ]
  },
  {
   "cell_type": "code",
   "execution_count": null,
   "metadata": {},
   "outputs": [],
   "source": [
    "data['Wind (offshore), capacityMax']"
   ]
  },
  {
   "cell_type": "markdown",
   "metadata": {},
   "source": [
    "### PV"
   ]
  },
  {
   "cell_type": "code",
   "execution_count": null,
   "metadata": {},
   "outputs": [],
   "source": [
    "esM.add(fn.Source(esM=esM, name='PV', commodity='electricity', hasCapacityVariable=True,\n",
    "                  operationRateMax=data['PV, operationRateMax'], capacityMax=data['PV, capacityMax'],\n",
    "                  investPerCapacity=0.65, opexPerCapacity=0.65*0.02, interestRate=0.08,\n",
    "                  economicLifetime=25))"
   ]
  },
  {
   "cell_type": "code",
   "execution_count": null,
   "metadata": {},
   "outputs": [],
   "source": [
    "data['PV, capacityMax']"
   ]
  },
  {
   "cell_type": "markdown",
   "metadata": {},
   "source": [
    "### Exisisting run-of-river hydroelectricity plants"
   ]
  },
  {
   "cell_type": "code",
   "execution_count": null,
   "metadata": {},
   "outputs": [],
   "source": [
    "data['Existing run-of-river plants, capacityFix']\n",
    "\n"
   ]
  },
  {
   "cell_type": "code",
   "execution_count": null,
   "metadata": {},
   "outputs": [],
   "source": [
    "esM.add(fn.Source(esM=esM, name='Existing run-of-river plants', commodity='electricity',\n",
    "                  hasCapacityVariable=True,\n",
    "                  operationRateFix=data['Existing run-of-river plants, operationRateFix'], tsaWeight=0.01,\n",
    "                  capacityFix=data['Existing run-of-river plants, capacityFix'],\n",
    "                  investPerCapacity=0, opexPerCapacity=0.208))"
   ]
  },
  {
   "cell_type": "markdown",
   "metadata": {},
   "source": [
    "## 3.2. Methane (natural gas and biogas)"
   ]
  },
  {
   "cell_type": "markdown",
   "metadata": {},
   "source": [
    "### Natural gas"
   ]
  },
  {
   "cell_type": "code",
   "execution_count": null,
   "metadata": {},
   "outputs": [],
   "source": [
    "esM.add(fn.Source(esM=esM, name='Natural gas purchase', commodity='methane',\n",
    "                  hasCapacityVariable=False, commodityCost=0.0331*1e-3))"
   ]
  },
  {
   "cell_type": "markdown",
   "metadata": {},
   "source": [
    "### Biogas"
   ]
  },
  {
   "cell_type": "code",
   "execution_count": null,
   "metadata": {},
   "outputs": [],
   "source": [
    "# esM.add(fn.Source(esM=esM, name='Biogas purchase', commodity='biogas',\n",
    "#                   operationRateMax=data['Biogas, operationRateMax'], hasCapacityVariable=False,\n",
    "#                   commodityCost=0.05409*1e-3))\n"
   ]
  },
  {
   "cell_type": "code",
   "execution_count": null,
   "metadata": {},
   "outputs": [],
   "source": [
    "## 3.3 CO2"
   ]
  },
  {
   "cell_type": "markdown",
   "metadata": {},
   "source": [
    "### CO2\n",
    "\n",
    "The CO2 source is required for the case in which it can be mixed with conventional natural gas."
   ]
  },
  {
   "cell_type": "code",
   "execution_count": null,
   "metadata": {},
   "outputs": [],
   "source": [
    "esM.add(fn.Source(esM=esM, name='CO2 from enviroment', commodity='CO2',\n",
    "                  hasCapacityVariable=False, commodityLimitID='CO2 limit', yearlyLimit=366*(1-CO2_reductionTarget)))"
   ]
  },
  {
   "cell_type": "code",
   "execution_count": null,
   "metadata": {},
   "outputs": [],
   "source": []
  },
  {
   "cell_type": "markdown",
   "metadata": {},
   "source": [
    "# 4. Add conversion components to the energy system model"
   ]
  },
  {
   "cell_type": "markdown",
   "metadata": {},
   "source": [
    "### Combined cycle gas turbine plants"
   ]
  },
  {
   "cell_type": "code",
   "execution_count": null,
   "metadata": {},
   "outputs": [],
   "source": [
    "esM.add(fn.Conversion(esM=esM, name='CCGT plants (methane)', physicalUnit=r'GW$_{el}$',\n",
    "                      commodityConversionFactors={'electricity': 1, 'methane': -1/0.625, 'CO2': 201*1e-6/0.625},\n",
    "                      hasCapacityVariable=True,\n",
    "                      investPerCapacity=0.65, opexPerCapacity=0.021, interestRate=0.08,\n",
    "                      economicLifetime=33))"
   ]
  },
  {
   "cell_type": "markdown",
   "metadata": {},
   "source": [
    "### New combined cycle gas turbine plants for biogas"
   ]
  },
  {
   "cell_type": "code",
   "execution_count": null,
   "metadata": {},
   "outputs": [],
   "source": [
    "# esM.add(fn.Conversion(esM=esM, name='New CCGT plants (biogas)', physicalUnit=r'GW$_{el}$',\n",
    "#                       commodityConversionFactors={'electricity':1, 'biogas':-1/0.635},\n",
    "#                       hasCapacityVariable=True, \n",
    "#                       investPerCapacity=0.7, opexPerCapacity=0.021, interestRate=0.08,\n",
    "#                       economicLifetime=33))"
   ]
  },
  {
   "cell_type": "markdown",
   "metadata": {},
   "source": [
    "### New combined cycly gas turbines for hydrogen"
   ]
  },
  {
   "cell_type": "code",
   "execution_count": null,
   "metadata": {},
   "outputs": [],
   "source": [
    "esM.add(fn.Conversion(esM=esM, name='New CCGT plants (hydrogen)', physicalUnit=r'GW$_{el}$',\n",
    "                      commodityConversionFactors={'electricity':1, 'hydrogen':-1/0.6},\n",
    "                      hasCapacityVariable=True, \n",
    "                      investPerCapacity=0.7, opexPerCapacity=0.021, interestRate=0.08,\n",
    "                      economicLifetime=33))"
   ]
  },
  {
   "cell_type": "markdown",
   "metadata": {},
   "source": [
    "### Electrolyzers"
   ]
  },
  {
   "cell_type": "code",
   "execution_count": null,
   "metadata": {},
   "outputs": [],
   "source": [
    "esM.add(fn.Conversion(esM=esM, name='Electroylzers', physicalUnit=r'GW$_{el}$',\n",
    "                      commodityConversionFactors={'electricity':-1, 'hydrogen':0.7},\n",
    "                      hasCapacityVariable=True, \n",
    "                      investPerCapacity=0.5, opexPerCapacity=0.5*0.025, interestRate=0.08,\n",
    "                      economicLifetime=10))"
   ]
  },
  {
   "cell_type": "markdown",
   "metadata": {},
   "source": [
    "### rSOC"
   ]
  },
  {
   "cell_type": "code",
   "execution_count": null,
   "metadata": {},
   "outputs": [],
   "source": [
    "# capexRSOC=1.5\n",
    "\n",
    "# esM.add(fn.Conversion(esM=esM, name='rSOEC', physicalUnit=r'GW$_{el}$', linkedConversionCapacityID='rSOC',\n",
    "#                       commodityConversionFactors={'electricity':-1, 'hydrogen':0.6},\n",
    "#                       hasCapacityVariable=True, \n",
    "#                       investPerCapacity=capexRSOC/2, opexPerCapacity=capexRSOC*0.02/2, interestRate=0.08,\n",
    "#                       economicLifetime=10))\n",
    "\n",
    "# esM.add(fn.Conversion(esM=esM, name='rSOFC', physicalUnit=r'GW$_{el}$', linkedConversionCapacityID='rSOC',\n",
    "#                       commodityConversionFactors={'electricity':1, 'hydrogen':-1/0.6},\n",
    "#                       hasCapacityVariable=True, \n",
    "#                       investPerCapacity=capexRSOC/2, opexPerCapacity=capexRSOC*0.02/2, interestRate=0.08,\n",
    "#                       economicLifetime=10))"
   ]
  },
  {
   "cell_type": "markdown",
   "metadata": {},
   "source": [
    "# 5. Add commodity storages to the energy system model"
   ]
  },
  {
   "cell_type": "markdown",
   "metadata": {},
   "source": [
    "## 5.1. Electricity storage"
   ]
  },
  {
   "cell_type": "markdown",
   "metadata": {},
   "source": [
    "### Lithium ion batteries\n",
    "\n",
    "The self discharge of a lithium ion battery is here described as 3% per month. The self discharge per hours is obtained using the equation (1-$\\text{selfDischarge}_\\text{hour})^{30*24\\text{h}} = 1-\\text{selfDischarge}_\\text{month}$."
   ]
  },
  {
   "cell_type": "code",
   "execution_count": null,
   "metadata": {},
   "outputs": [],
   "source": [
    "esM.add(fn.Storage(esM=esM, name='Li-ion batteries', commodity='electricity',\n",
    "                   hasCapacityVariable=True, chargeEfficiency=0.95,\n",
    "                   cyclicLifetime=10000, dischargeEfficiency=0.95, selfDischarge=1-(1-0.03)**(1/(30*24)),\n",
    "                   chargeRate=1, dischargeRate=1, doPreciseTsaModeling=False,\n",
    "                   investPerCapacity=0.151, opexPerCapacity=0.002, interestRate=0.08,\n",
    "                   economicLifetime=22))"
   ]
  },
  {
   "cell_type": "markdown",
   "metadata": {},
   "source": [
    "## 5.2. Hydrogen storage"
   ]
  },
  {
   "cell_type": "markdown",
   "metadata": {},
   "source": [
    "### Hydrogen filled salt caverns\n",
    "The maximum capacity is here obtained by: dividing the given capacity (which is given for methane) by the lower heating value of methane and then multiplying it with the lower heating value of hydrogen."
   ]
  },
  {
   "cell_type": "code",
   "execution_count": null,
   "metadata": {},
   "outputs": [],
   "source": [
    "# esM.add(fn.Storage(esM=esM, name='Salt caverns (hydrogen)', commodity='hydrogen',\n",
    "#                    hasCapacityVariable=True, capacityVariableDomain='continuous',\n",
    "#                    capacityPerPlantUnit=133,\n",
    "#                    chargeRate=1/470.37, dischargeRate=1/470.37, sharedPotentialID='Existing salt caverns',\n",
    "#                    stateOfChargeMin=0.33, stateOfChargeMax=1, capacityMax=data['Salt caverns (hydrogen), capacityMax'],\n",
    "#                    investPerCapacity=0.00011, opexPerCapacity=0.00057, interestRate=0.08,\n",
    "#                    economicLifetime=30))"
   ]
  },
  {
   "cell_type": "markdown",
   "metadata": {},
   "source": [
    "## 5.3. Methane storage"
   ]
  },
  {
   "cell_type": "markdown",
   "metadata": {},
   "source": [
    "### Methane filled salt caverns"
   ]
  },
  {
   "cell_type": "code",
   "execution_count": null,
   "metadata": {},
   "outputs": [],
   "source": [
    "# esM.add(fn.Storage(esM=esM, name='Salt caverns (biogas)', commodity='biogas',\n",
    "#                    hasCapacityVariable=True, capacityVariableDomain='continuous',\n",
    "#                    capacityPerPlantUnit=443,\n",
    "#                    chargeRate=1/470.37, dischargeRate=1/470.37, sharedPotentialID='Existing salt caverns',\n",
    "#                    stateOfChargeMin=0.33, stateOfChargeMax=1, capacityMax=data['Salt caverns (methane), capacityMax'],\n",
    "#                    investPerCapacity=0.00004, opexPerCapacity=0.00001, interestRate=0.08,\n",
    "#                    economicLifetime=30))"
   ]
  },
  {
   "cell_type": "markdown",
   "metadata": {},
   "source": [
    "## 5.4 Pumped hydro storage"
   ]
  },
  {
   "cell_type": "markdown",
   "metadata": {},
   "source": [
    "### Pumped hydro storage"
   ]
  },
  {
   "cell_type": "code",
   "execution_count": null,
   "metadata": {},
   "outputs": [],
   "source": [
    "# esM.add(fn.Storage(esM=esM, name='Pumped hydro storage', commodity='electricity',\n",
    "#                    chargeEfficiency=0.88, dischargeEfficiency=0.88,\n",
    "#                    hasCapacityVariable=True, selfDischarge=1-(1-0.00375)**(1/(30*24)),\n",
    "#                    chargeRate=0.16, dischargeRate=0.12, capacityFix=data['Pumped hydro storage, capacityFix'],\n",
    "#                    investPerCapacity=0, opexPerCapacity=0.000153))"
   ]
  },
  {
   "cell_type": "markdown",
   "metadata": {},
   "source": [
    "# 6. Add commodity transmission components to the energy system model"
   ]
  },
  {
   "cell_type": "markdown",
   "metadata": {},
   "source": [
    "## 6.1. Electricity transmission"
   ]
  },
  {
   "cell_type": "markdown",
   "metadata": {},
   "source": [
    "### AC cables"
   ]
  },
  {
   "cell_type": "code",
   "execution_count": null,
   "metadata": {},
   "outputs": [],
   "source": [
    "esM.add(fn.Transmission(esM=esM, name='AC cables', commodity='electricity',\n",
    "                                  hasCapacityVariable=True, capacityFix=data['AC cables, capacityFix']))"
   ]
  },
  {
   "cell_type": "markdown",
   "metadata": {},
   "source": [
    "### DC cables"
   ]
  },
  {
   "cell_type": "code",
   "execution_count": null,
   "metadata": {},
   "outputs": [],
   "source": [
    "# esM.add(fn.Transmission(esM=esM, name='DC cables', commodity='electricity', losses=data['DC cables, losses'],\n",
    "#                         distances=data['DC cables, distances'],\n",
    "#                         hasCapacityVariable=True, capacityFix=data['DC cables, capacityFix']))"
   ]
  },
  {
   "cell_type": "markdown",
   "metadata": {},
   "source": [
    "## 6.2 Methane transmission"
   ]
  },
  {
   "cell_type": "markdown",
   "metadata": {},
   "source": [
    "### Methane pipeline"
   ]
  },
  {
   "cell_type": "code",
   "execution_count": null,
   "metadata": {
    "scrolled": true
   },
   "outputs": [],
   "source": [
    "esM.add(fn.Transmission(esM=esM, name='Pipelines (biogas)', commodity='biogas', \n",
    "                        distances=data['Pipelines, distances'],\n",
    "                        hasCapacityVariable=True, hasIsBuiltBinaryVariable=False, bigM=300,\n",
    "                        locationalEligibility=data['Pipelines, eligibility'],\n",
    "                        capacityMax=data['Pipelines, eligibility']*15, sharedPotentialID='pipelines',\n",
    "                        investPerCapacity=0.000037, investIfBuilt=0.000314,\n",
    "                        interestRate=0.08, economicLifetime=40))"
   ]
  },
  {
   "cell_type": "markdown",
   "metadata": {},
   "source": [
    "esM.getComponent('Pipelines (methane)')._mapC['cluster_0_cluster_4'][1]"
   ]
  },
  {
   "cell_type": "markdown",
   "metadata": {},
   "source": [
    "## 6.3 Hydrogen transmission"
   ]
  },
  {
   "cell_type": "markdown",
   "metadata": {},
   "source": [
    "### Hydrogen pipelines"
   ]
  },
  {
   "cell_type": "code",
   "execution_count": null,
   "metadata": {
    "scrolled": true
   },
   "outputs": [],
   "source": [
    "# esM.add(fn.Transmission(esM=esM, name='Pipelines (hydrogen)', commodity='hydrogen',\n",
    "#                         distances=data['Pipelines, distances'],\n",
    "#                         hasCapacityVariable=True, hasIsBuiltBinaryVariable=False, bigM=300,\n",
    "#                         locationalEligibility=data['Pipelines, eligibility'],\n",
    "#                         capacityMax=data['Pipelines, eligibility']*15, sharedPotentialID='pipelines',\n",
    "#                         investPerCapacity=0.000177, investIfBuilt=0.00033,\n",
    "#                         interestRate=0.08, economicLifetime=40))"
   ]
  },
  {
   "cell_type": "markdown",
   "metadata": {},
   "source": [
    "esM.getComponent('Pipeline (hydrogen)')._mapC"
   ]
  },
  {
   "cell_type": "markdown",
   "metadata": {},
   "source": [
    "# 7. Add commodity sinks to the energy system model"
   ]
  },
  {
   "cell_type": "markdown",
   "metadata": {},
   "source": [
    "## 7.1. Electricity sinks"
   ]
  },
  {
   "cell_type": "markdown",
   "metadata": {},
   "source": [
    "### Electricity demand"
   ]
  },
  {
   "cell_type": "code",
   "execution_count": null,
   "metadata": {},
   "outputs": [],
   "source": [
    "esM.add(fn.Sink(esM=esM, name='Electricity demand', commodity='electricity',\n",
    "                hasCapacityVariable=False, operationRateFix=data['Electricity demand, operationRateFix']))"
   ]
  },
  {
   "cell_type": "code",
   "execution_count": null,
   "metadata": {},
   "outputs": [],
   "source": [
    "data['Electricity demand, operationRateFix']"
   ]
  },
  {
   "cell_type": "markdown",
   "metadata": {},
   "source": [
    "## 7.2. Hydrogen sinks"
   ]
  },
  {
   "cell_type": "markdown",
   "metadata": {},
   "source": [
    "### Fuel cell electric vehicle (FCEV) demand"
   ]
  },
  {
   "cell_type": "code",
   "execution_count": null,
   "metadata": {},
   "outputs": [],
   "source": [
    "# FCEV_penetration=0.5\n",
    "# esM.add(fn.Sink(esM=esM, name='Hydrogen demand', commodity='hydrogen', hasCapacityVariable=False,\n",
    "#                 operationRateFix=data['Hydrogen demand, operationRateFix']*FCEV_penetration))"
   ]
  },
  {
   "cell_type": "markdown",
   "metadata": {},
   "source": [
    "## 7.3. CO2 sinks"
   ]
  },
  {
   "cell_type": "markdown",
   "metadata": {},
   "source": [
    "### CO2 exiting the system's boundary"
   ]
  },
  {
   "cell_type": "code",
   "execution_count": null,
   "metadata": {},
   "outputs": [],
   "source": [
    "esM.add(fn.Sink(esM=esM, name='CO2 to enviroment', commodity='CO2',\n",
    "                hasCapacityVariable=False, commodityLimitID='CO2 limit', yearlyLimit=366*(1-CO2_reductionTarget)))"
   ]
  },
  {
   "cell_type": "markdown",
   "metadata": {},
   "source": [
    "# 8. Optimize energy system model"
   ]
  },
  {
   "cell_type": "markdown",
   "metadata": {},
   "source": [
    "All components are now added to the model and the model can be optimized. If the computational complexity of the optimization should be reduced, the time series data of the specified components can be clustered before the optimization and the parameter timeSeriesAggregation is set to True in the optimize call."
   ]
  },
  {
   "cell_type": "code",
   "execution_count": null,
   "metadata": {},
   "outputs": [],
   "source": [
    "esM.cluster(numberOfTypicalPeriods=10)"
   ]
  },
  {
   "cell_type": "code",
   "execution_count": null,
   "metadata": {
    "scrolled": true
   },
   "outputs": [],
   "source": [
    "esM.optimize(timeSeriesAggregation=True, optimizationSpecs='OptimalityTol=1e-3 cuts=0 method=2')"
   ]
  },
  {
   "cell_type": "markdown",
   "metadata": {},
   "source": [
    "# 9. Selected results output\n",
    "\n",
    "Plot locations (GeoPandas required)"
   ]
  },
  {
   "cell_type": "code",
   "execution_count": null,
   "metadata": {
    "scrolled": true
   },
   "outputs": [],
   "source": [
    "locFilePath = os.path.join(cwd, 'InputData', 'SpatialData','ShapeFiles', 'european_countries/european_countries.shp')\n",
    "\n",
    "fig1, ax = fn.plotLocations(locFilePath, plotLocNames=False, indexColumn='abbrev_1')\n"
   ]
  },
  {
   "cell_type": "code",
   "execution_count": null,
   "metadata": {},
   "outputs": [],
   "source": [
    "# import geopandas as gpd\n",
    "# european_countries = gpd.read_file(locFilePath)\n",
    "# european_countries.columns"
   ]
  },
  {
   "cell_type": "markdown",
   "metadata": {},
   "source": [
    "### Sources and Sink\n",
    "\n",
    "Show optimization summary"
   ]
  },
  {
   "cell_type": "code",
   "execution_count": null,
   "metadata": {
    "scrolled": false
   },
   "outputs": [],
   "source": [
    "esM.getOptimizationSummary(\"SourceSinkModel\", outputLevel=2).sum(axis=1)"
   ]
  },
  {
   "cell_type": "markdown",
   "metadata": {},
   "source": [
    "Plot installed capacities"
   ]
  },
  {
   "cell_type": "code",
   "execution_count": null,
   "metadata": {},
   "outputs": [],
   "source": [
    "region_shapes_path = 'InputData/SpatialData/ShapeFiles/no data/clusteredRegions.shp'\n",
    "\n",
    "import geopandas as gpd \n",
    "regional_shape_gdf = gpd.read_file(region_shapes_path)\n",
    "regional_shape_gdf\n"
   ]
  },
  {
   "cell_type": "code",
   "execution_count": null,
   "metadata": {
    "scrolled": false
   },
   "outputs": [],
   "source": [
    "fig, ax = fn.plotLocationalColorMap(esM, 'Wind (onshore)', locFilePath, 'abbrev_1', perArea=True)\n"
   ]
  },
  {
   "cell_type": "markdown",
   "metadata": {},
   "source": [
    "Plot operation time series (either one or two dimensional)"
   ]
  },
  {
   "cell_type": "code",
   "execution_count": null,
   "metadata": {},
   "outputs": [],
   "source": [
    "fig, ax = fn.plotOperation(esM, 'Electricity demand', 'de')"
   ]
  },
  {
   "cell_type": "code",
   "execution_count": null,
   "metadata": {},
   "outputs": [],
   "source": [
    "fig, ax = fn.plotOperationColorMap(esM, 'Electricity demand', 'de')"
   ]
  },
  {
   "cell_type": "markdown",
   "metadata": {},
   "source": [
    "### Conversion\n",
    "\n",
    "Show optimization summary"
   ]
  },
  {
   "cell_type": "code",
   "execution_count": null,
   "metadata": {},
   "outputs": [],
   "source": [
    "esM.getOptimizationSummary(\"ConversionModel\", outputLevel=2)"
   ]
  },
  {
   "cell_type": "code",
   "execution_count": null,
   "metadata": {},
   "outputs": [],
   "source": [
    "# fig, ax = fn.plotOperationColorMap(esM, 'New CCGT plants (biogas)', 'de')"
   ]
  },
  {
   "cell_type": "markdown",
   "metadata": {},
   "source": [
    "### Storage\n",
    "\n",
    "Show optimization summary"
   ]
  },
  {
   "cell_type": "code",
   "execution_count": null,
   "metadata": {},
   "outputs": [],
   "source": [
    "esM.getOptimizationSummary(\"StorageModel\", outputLevel=2)"
   ]
  },
  {
   "cell_type": "code",
   "execution_count": null,
   "metadata": {},
   "outputs": [],
   "source": [
    "fig, ax = fn.plotOperationColorMap(esM, 'Li-ion batteries', 'de', \n",
    "                                   variableName='stateOfChargeOperationVariablesOptimum')"
   ]
  },
  {
   "cell_type": "code",
   "execution_count": null,
   "metadata": {},
   "outputs": [],
   "source": [
    "# fig, ax = fn.plotOperationColorMap(esM, 'Pumped hydro storage', 'de',\n",
    "#                                   variableName='stateOfChargeOperationVariablesOptimum')"
   ]
  },
  {
   "cell_type": "code",
   "execution_count": null,
   "metadata": {},
   "outputs": [],
   "source": [
    "# fig, ax = fn.plotOperationColorMap(esM, 'Salt caverns (biogas)', 'de',\n",
    "#                                   variableName='stateOfChargeOperationVariablesOptimum')"
   ]
  },
  {
   "cell_type": "code",
   "execution_count": null,
   "metadata": {},
   "outputs": [],
   "source": [
    "# fig, ax = fn.plotOperationColorMap(esM, 'Salt caverns (hydrogen)', 'de',\n",
    "#                                   variableName='stateOfChargeOperationVariablesOptimum')"
   ]
  },
  {
   "cell_type": "markdown",
   "metadata": {},
   "source": [
    "## Transmission\n",
    "\n",
    "Show optimization summary"
   ]
  },
  {
   "cell_type": "code",
   "execution_count": null,
   "metadata": {
    "scrolled": false
   },
   "outputs": [],
   "source": [
    "esM.getOptimizationSummary(\"TransmissionModel\", outputLevel=2)"
   ]
  },
  {
   "cell_type": "markdown",
   "metadata": {},
   "source": [
    "Check that the shared capacity of the pipelines are not exceeded"
   ]
  },
  {
   "cell_type": "code",
   "execution_count": null,
   "metadata": {},
   "outputs": [],
   "source": [
    "# df=esM.componentModelingDict[\"TransmissionModel\"].capacityVariablesOptimum\n",
    "# df.loc['Pipelines (biogas)']+df.loc['Pipelines (hydrogen)']"
   ]
  },
  {
   "cell_type": "markdown",
   "metadata": {},
   "source": [
    "Plot installed transmission capacities"
   ]
  },
  {
   "cell_type": "code",
   "execution_count": null,
   "metadata": {},
   "outputs": [],
   "source": [
    "transFilePath = os.path.join(cwd, 'InputData', 'SpatialData','ShapeFiles', 'AClines.shp')\n",
    "\n",
    "fig, ax = fn.plotLocations(locFilePath, indexColumn='index')                                 \n",
    "fig, ax = fn.plotTransmission(esM, 'AC cables', transFilePath, loc0='bus0', loc1='bus1', fig=fig, ax=ax)"
   ]
  },
  {
   "cell_type": "code",
   "execution_count": null,
   "metadata": {},
   "outputs": [],
   "source": [
    "transFilePath = os.path.join(cwd, 'InputData', 'SpatialData','ShapeFiles', 'DClines.shp')\n",
    "\n",
    "fig, ax = fn.plotLocations(locFilePath, indexColumn='index')                                 \n",
    "fig, ax = fn.plotTransmission(esM, 'DC cables', transFilePath, loc0='cluster0', loc1='cluster1', fig=fig, ax=ax)"
   ]
  },
  {
   "cell_type": "code",
   "execution_count": null,
   "metadata": {},
   "outputs": [],
   "source": [
    "transFilePath = os.path.join(cwd, 'InputData', 'SpatialData','ShapeFiles', 'transmissionPipeline.shp')\n",
    "\n",
    "fig, ax = fn.plotLocations(locFilePath, indexColumn='index')                                 \n",
    "fig, ax = fn.plotTransmission(esM, 'Pipelines (hydrogen)', transFilePath, loc0='cluster0', loc1='cluster1',\n",
    "                              fig=fig, ax=ax)"
   ]
  },
  {
   "cell_type": "code",
   "execution_count": null,
   "metadata": {},
   "outputs": [],
   "source": [
    "transFilePath = os.path.join(cwd, 'InputData', 'SpatialData','ShapeFiles', 'transmissionPipeline.shp')\n",
    "\n",
    "fig, ax = fn.plotLocations(locFilePath, indexColumn='index')                                 \n",
    "fig, ax = fn.plotTransmission(esM, 'Pipelines (biogas)', transFilePath, loc0='cluster0', loc1='cluster1',\n",
    "                              fig=fig, ax=ax)"
   ]
  }
 ],
 "metadata": {
  "anaconda-cloud": {},
  "kernelspec": {
   "display_name": "Python 3",
   "language": "python",
   "name": "python3"
  },
  "language_info": {
   "codemirror_mode": {
    "name": "ipython",
    "version": 3
   },
   "file_extension": ".py",
   "mimetype": "text/x-python",
   "name": "python",
   "nbconvert_exporter": "python",
   "pygments_lexer": "ipython3",
   "version": "3.7.2"
  }
 },
 "nbformat": 4,
 "nbformat_minor": 1
}
